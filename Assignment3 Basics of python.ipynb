{
 "cells": [
  {
   "cell_type": "markdown",
   "id": "926998db-96d6-4a0e-9839-3c4ecde09d0d",
   "metadata": {},
   "source": [
    "# Assignment 3 PYTHON PROGRAMMING ASSIGNMENT"
   ]
  },
  {
   "cell_type": "markdown",
   "id": "4b2c969b",
   "metadata": {},
   "source": [
    "## Exercise 1: Prime Numbers\n"
   ]
  },
  {
   "cell_type": "markdown",
   "id": "9c19682c-349c-4850-be37-d88178088336",
   "metadata": {},
   "source": [
    "**What is a prime number and how do we check it in Python?**\n",
    "\n",
    "A prime number is a natural number greater than 1 that has no positive divisors other than 1 and itself.\n",
    "In Python, we can check for prime numbers using a loop and checking divisibility from 2 to the square root of the number."
   ]
  },
  {
   "cell_type": "code",
   "execution_count": 1,
   "id": "7f145029",
   "metadata": {},
   "outputs": [
    {
     "data": {
      "text/plain": [
       "True"
      ]
     },
     "execution_count": 1,
     "metadata": {},
     "output_type": "execute_result"
    }
   ],
   "source": [
    "def is_prime(n):\n",
    "    if n <= 1:\n",
    "        return False\n",
    "    for i in range(2, int(n**0.5)+1):\n",
    "        if n % i == 0:\n",
    "            return False\n",
    "    return True\n",
    "\n",
    "is_prime(29)"
   ]
  },
  {
   "cell_type": "markdown",
   "id": "5f141655-3044-43b4-90cb-8021973db722",
   "metadata": {},
   "source": [
    "## Exercise 2: Product of Random Numbers"
   ]
  },
  {
   "cell_type": "markdown",
   "id": "31c9503c",
   "metadata": {},
   "source": [
    "**What are random numbers and how can we interact with users in Python?**\n",
    "\n",
    "Random numbers are generated using Python's `random` module. In this exercise, we generate two random numbers, and simulate user input to check if the answer is correct."
   ]
  },
  {
   "cell_type": "code",
   "execution_count": 2,
   "id": "85a2d4bc",
   "metadata": {},
   "outputs": [
    {
     "data": {
      "text/plain": [
       "True"
      ]
     },
     "execution_count": 2,
     "metadata": {},
     "output_type": "execute_result"
    }
   ],
   "source": [
    "import random\n",
    "\n",
    "num1 = random.randint(1, 10)\n",
    "num2 = random.randint(1, 10)\n",
    "num1, num2\n",
    "\n",
    "user_answer = num1 * num2\n",
    "user_answer == (num1 * num2)"
   ]
  },
  {
   "cell_type": "markdown",
   "id": "2943c26e-847f-4e98-9fb9-fa1682d5925b",
   "metadata": {},
   "source": [
    "## Exercise 3: Squares of Even Numbers"
   ]
  },
  {
   "cell_type": "markdown",
   "id": "c6365a75",
   "metadata": {},
   "source": [
    "**Why are even or odd numbers important in loops, and how do we find them?**\n",
    "\n",
    "Even numbers are divisible by 2. We use `% 2 == 0` to check for even numbers and loop from 100 to 200 to find their squares."
   ]
  },
  {
   "cell_type": "code",
   "execution_count": 3,
   "id": "4c6ad222",
   "metadata": {},
   "outputs": [
    {
     "data": {
      "text/plain": [
       "[(100, 10000),\n",
       " (102, 10404),\n",
       " (104, 10816),\n",
       " (106, 11236),\n",
       " (108, 11664),\n",
       " (110, 12100),\n",
       " (112, 12544),\n",
       " (114, 12996),\n",
       " (116, 13456),\n",
       " (118, 13924)]"
      ]
     },
     "execution_count": 3,
     "metadata": {},
     "output_type": "execute_result"
    }
   ],
   "source": [
    "even_squares = []\n",
    "for i in range(100, 201):\n",
    "    if i % 2 == 0:\n",
    "        even_squares.append((i, i**2))\n",
    "even_squares[:10]"
   ]
  },
  {
   "cell_type": "markdown",
   "id": "0d9a441b-bc07-48a9-ae48-8fd6bf2f5fb4",
   "metadata": {},
   "source": [
    "## Exercise 4: Word Counter"
   ]
  },
  {
   "cell_type": "markdown",
   "id": "9906f705",
   "metadata": {},
   "source": [
    "**How does word counting work in Python, and why is text cleaning important?**\n",
    "\n",
    "We split the text into words, clean punctuation, and count each word using a dictionary. Text cleaning ensures words like 'text.' and 'text' are treated the same."
   ]
  },
  {
   "cell_type": "code",
   "execution_count": 4,
   "id": "d61861b1",
   "metadata": {},
   "outputs": [
    {
     "data": {
      "text/plain": [
       "{'this': 2,\n",
       " 'is': 1,\n",
       " 'a': 1,\n",
       " 'sample': 1,\n",
       " 'text': 2,\n",
       " 'will': 1,\n",
       " 'be': 1,\n",
       " 'used': 1,\n",
       " 'to': 1,\n",
       " 'demonstrate': 1,\n",
       " 'the': 1,\n",
       " 'word': 1,\n",
       " 'counter': 1}"
      ]
     },
     "execution_count": 4,
     "metadata": {},
     "output_type": "execute_result"
    }
   ],
   "source": [
    "input_text = \"This is a sample text. This text will be used to demonstrate the word counter.\"\n",
    "words = input_text.split()\n",
    "word_count = {}\n",
    "for word in words:\n",
    "    word_clean = word.strip(\".,!?\").lower()\n",
    "    word_count[word_clean] = word_count.get(word_clean, 0) + 1\n",
    "word_count"
   ]
  },
  {
   "cell_type": "markdown",
   "id": "f89a00e8-1c54-4753-aded-490cde053b0f",
   "metadata": {},
   "source": [
    "## Exercise 5: Check for Palindrome"
   ]
  },
  {
   "cell_type": "markdown",
   "id": "200c2c4f",
   "metadata": {},
   "source": [
    "**What is a palindrome, and how do we detect one in Python?**\n",
    "\n",
    "A palindrome is a word or phrase that reads the same backward as forward, ignoring spaces, punctuation, and capitalization. We clean the text and compare it to its reverse."
   ]
  },
  {
   "cell_type": "code",
   "execution_count": 5,
   "id": "4d2fead6",
   "metadata": {},
   "outputs": [
    {
     "data": {
      "text/plain": [
       "True"
      ]
     },
     "execution_count": 5,
     "metadata": {},
     "output_type": "execute_result"
    }
   ],
   "source": [
    "def is_palindrome(text):\n",
    "    cleaned = ''.join(c.lower() for c in text if c.isalnum())\n",
    "    return cleaned == cleaned[::-1]\n",
    "\n",
    "is_palindrome(\"RaceCar\")"
   ]
  }
 ],
 "metadata": {
  "kernelspec": {
   "display_name": "Python 3 (ipykernel)",
   "language": "python",
   "name": "python3"
  },
  "language_info": {
   "codemirror_mode": {
    "name": "ipython",
    "version": 3
   },
   "file_extension": ".py",
   "mimetype": "text/x-python",
   "name": "python",
   "nbconvert_exporter": "python",
   "pygments_lexer": "ipython3",
   "version": "3.13.5"
  }
 },
 "nbformat": 4,
 "nbformat_minor": 5
}
