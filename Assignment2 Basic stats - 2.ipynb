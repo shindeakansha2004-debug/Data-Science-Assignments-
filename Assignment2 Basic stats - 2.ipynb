{
 "cells": [
  {
   "cell_type": "markdown",
   "id": "5ed57cb8-a92b-4eea-9150-7d590a7f7331",
   "metadata": {},
   "source": [
    "#                                   Assignment 2: Estimation and Confidence Intervals"
   ]
  },
  {
   "cell_type": "markdown",
   "id": "23abe18f-25cf-4bce-89e7-d3596f643fd4",
   "metadata": {},
   "source": [
    "## Scenario: Print-Head Durability Estimation"
   ]
  },
  {
   "cell_type": "markdown",
   "id": "92492548-48d5-4c36-8d74-fef494454b76",
   "metadata": {},
   "source": [
    "**Step 1: Import libraries**"
   ]
  },
  {
   "cell_type": "code",
   "execution_count": 1,
   "id": "dff9c5e0-2cfc-4d9c-a3aa-14aaee09d86c",
   "metadata": {},
   "outputs": [],
   "source": [
    "import pandas as pd\n",
    "import numpy as np\n",
    "import seaborn as sns\n",
    "import matplotlib.pyplot as plt\n",
    "import scipy.stats as stats"
   ]
  },
  {
   "cell_type": "markdown",
   "id": "91b28ae7-7fa3-4dfd-b443-04a679406ef2",
   "metadata": {},
   "source": [
    "**Step 2: Given sample data (durability in millions of characters)**"
   ]
  },
  {
   "cell_type": "code",
   "execution_count": 2,
   "id": "25b9e8db-33d6-44e7-94b6-91d32050539a",
   "metadata": {},
   "outputs": [
    {
     "data": {
      "text/plain": [
       "[1.13,\n",
       " 1.55,\n",
       " 1.43,\n",
       " 0.92,\n",
       " 1.25,\n",
       " 1.36,\n",
       " 1.32,\n",
       " 0.85,\n",
       " 1.07,\n",
       " 1.48,\n",
       " 1.2,\n",
       " 1.33,\n",
       " 1.18,\n",
       " 1.22,\n",
       " 1.29]"
      ]
     },
     "execution_count": 2,
     "metadata": {},
     "output_type": "execute_result"
    }
   ],
   "source": [
    "data = [1.13, 1.55, 1.43, 0.92, 1.25, 1.36, 1.32, 0.85, 1.07, 1.48, 1.20, 1.33, 1.18, 1.22, 1.29]\n",
    "data"
   ]
  },
  {
   "cell_type": "code",
   "execution_count": 3,
   "id": "f3a5297d-7a2a-44e5-ad35-5d945cc180fd",
   "metadata": {},
   "outputs": [
    {
     "data": {
      "text/plain": [
       "15"
      ]
     },
     "execution_count": 3,
     "metadata": {},
     "output_type": "execute_result"
    }
   ],
   "source": [
    "n = len(data)\n",
    "n"
   ]
  },
  {
   "cell_type": "code",
   "execution_count": 4,
   "id": "aa320de6-5f04-4dbe-aebd-ca6288792546",
   "metadata": {},
   "outputs": [
    {
     "data": {
      "text/plain": [
       "np.float64(1.2386666666666666)"
      ]
     },
     "execution_count": 4,
     "metadata": {},
     "output_type": "execute_result"
    }
   ],
   "source": [
    "mean = np.mean(data)\n",
    "mean"
   ]
  },
  {
   "cell_type": "code",
   "execution_count": 5,
   "id": "1074936c-d713-4788-87e6-deeb6f183d7b",
   "metadata": {},
   "outputs": [
    {
     "data": {
      "text/plain": [
       "np.float64(0.19316412956959936)"
      ]
     },
     "execution_count": 5,
     "metadata": {},
     "output_type": "execute_result"
    }
   ],
   "source": [
    "sample_std = np.std(data, ddof=1)\n",
    "sample_std"
   ]
  },
  {
   "cell_type": "markdown",
   "id": "ca792f70-2ec7-4d3f-9639-8a83e3624e60",
   "metadata": {},
   "source": [
    "## a. Build 99% Confidence Interval Using Sample Standard Deviation"
   ]
  },
  {
   "cell_type": "markdown",
   "id": "9ecb5b63-e6bd-4c34-b0aa-41a420a56de0",
   "metadata": {},
   "source": [
    "**Step 3: Set confidence level and degrees of freedom**"
   ]
  },
  {
   "cell_type": "code",
   "execution_count": 6,
   "id": "fe80fb7a-0c71-4c1e-aeb6-4e93ea42270e",
   "metadata": {},
   "outputs": [],
   "source": [
    "confidence = 0.99"
   ]
  },
  {
   "cell_type": "code",
   "execution_count": 7,
   "id": "f9fcd336-910f-4950-a755-363ac421764b",
   "metadata": {},
   "outputs": [
    {
     "data": {
      "text/plain": [
       "0.010000000000000009"
      ]
     },
     "execution_count": 7,
     "metadata": {},
     "output_type": "execute_result"
    }
   ],
   "source": [
    "alpha = 1 - confidence\n",
    "alpha"
   ]
  },
  {
   "cell_type": "code",
   "execution_count": 8,
   "id": "8e238b49-fc73-40a5-bb40-3b660e25c4d0",
   "metadata": {},
   "outputs": [
    {
     "data": {
      "text/plain": [
       "14"
      ]
     },
     "execution_count": 8,
     "metadata": {},
     "output_type": "execute_result"
    }
   ],
   "source": [
    "df = n - 1  # degrees of freedom\n",
    "df"
   ]
  },
  {
   "cell_type": "markdown",
   "id": "c2e5ddf8-5a14-49aa-b828-102ec27fb57a",
   "metadata": {},
   "source": [
    "**Step 4: Get t-critical value**"
   ]
  },
  {
   "cell_type": "code",
   "execution_count": 9,
   "id": "0d589998-64ba-41a0-a12a-61e99eba55ab",
   "metadata": {},
   "outputs": [
    {
     "data": {
      "text/plain": [
       "np.float64(2.976842734370834)"
      ]
     },
     "execution_count": 9,
     "metadata": {},
     "output_type": "execute_result"
    }
   ],
   "source": [
    "t_critical = stats.t.ppf(1 - alpha/2, df)\n",
    "t_critical"
   ]
  },
  {
   "cell_type": "markdown",
   "id": "07906152-d46f-4c3b-9eed-dd0a77221c65",
   "metadata": {},
   "source": [
    "**Step 5: Calculate Margin of Error**"
   ]
  },
  {
   "cell_type": "code",
   "execution_count": 10,
   "id": "f3ee0a79-d8d3-4960-864c-a27f7081228f",
   "metadata": {},
   "outputs": [
    {
     "data": {
      "text/plain": [
       "np.float64(0.14846932822817596)"
      ]
     },
     "execution_count": 10,
     "metadata": {},
     "output_type": "execute_result"
    }
   ],
   "source": [
    "ME_t = t_critical * (sample_std / np.sqrt(n))\n",
    "ME_t"
   ]
  },
  {
   "cell_type": "markdown",
   "id": "a557e935-a2f7-47e9-99d2-d960ba1cf45c",
   "metadata": {},
   "source": [
    "**Step 6: Confidence Interval**"
   ]
  },
  {
   "cell_type": "code",
   "execution_count": 11,
   "id": "6c3a3aa4-a160-4618-9df6-cdb2b75739de",
   "metadata": {},
   "outputs": [],
   "source": [
    "CI_t_lower = mean - ME_t\n",
    "CI_t_upper = mean + ME_t"
   ]
  },
  {
   "cell_type": "code",
   "execution_count": 12,
   "id": "d6c541b3-c3b2-4e02-a285-f985ec1abd28",
   "metadata": {},
   "outputs": [
    {
     "data": {
      "text/plain": [
       "(np.float64(1.0901973384384906), np.float64(1.3871359948948425))"
      ]
     },
     "execution_count": 12,
     "metadata": {},
     "output_type": "execute_result"
    }
   ],
   "source": [
    "CI_t_lower, CI_t_upper"
   ]
  },
  {
   "cell_type": "markdown",
   "id": "35caf6da-1202-4847-9a00-403e37b51ce5",
   "metadata": {},
   "source": [
    "## b. Build 99% Confidence Interval Using Known Population Standard Deviation"
   ]
  },
  {
   "cell_type": "markdown",
   "id": "c72a0492-098f-4dcd-aa04-d6f90bf5b025",
   "metadata": {},
   "source": [
    "**Step 7: Known population standard deviation**"
   ]
  },
  {
   "cell_type": "code",
   "execution_count": 13,
   "id": "8f7a97f5-2a69-45aa-a724-7803962166db",
   "metadata": {},
   "outputs": [],
   "source": [
    "pop_std = 0.2"
   ]
  },
  {
   "cell_type": "markdown",
   "id": "12ae7413-28d5-463c-94c9-0ffaa67f31cd",
   "metadata": {},
   "source": [
    "**Step 8: Get z-critical value**"
   ]
  },
  {
   "cell_type": "code",
   "execution_count": 14,
   "id": "989b4b9f-7e31-423c-9be5-a630ff7a6c07",
   "metadata": {},
   "outputs": [
    {
     "data": {
      "text/plain": [
       "np.float64(2.5758293035489004)"
      ]
     },
     "execution_count": 14,
     "metadata": {},
     "output_type": "execute_result"
    }
   ],
   "source": [
    "z_critical = stats.norm.ppf(1 - alpha/2)\n",
    "z_critical"
   ]
  },
  {
   "cell_type": "markdown",
   "id": "47c6a44b-4b29-4ba1-b0da-986ccdf3acbc",
   "metadata": {},
   "source": [
    "**Step 9: Calculate Margin of Error**"
   ]
  },
  {
   "cell_type": "code",
   "execution_count": 15,
   "id": "c1a82f65-9ff9-4c7a-8dab-b3fe1edff3df",
   "metadata": {},
   "outputs": [
    {
     "data": {
      "text/plain": [
       "np.float64(0.13301525327090588)"
      ]
     },
     "execution_count": 15,
     "metadata": {},
     "output_type": "execute_result"
    }
   ],
   "source": [
    "ME_z = z_critical * (pop_std / np.sqrt(n))\n",
    "ME_z"
   ]
  },
  {
   "cell_type": "markdown",
   "id": "b2f42e77-3dff-46ed-b5aa-68e12e31bf37",
   "metadata": {},
   "source": [
    "**Step 10: Confidence Interval**"
   ]
  },
  {
   "cell_type": "code",
   "execution_count": 16,
   "id": "b42b08b3-bd2c-407f-9c4e-6a8dfc9d86ba",
   "metadata": {},
   "outputs": [],
   "source": [
    "CI_z_lower = mean - ME_z\n",
    "CI_z_upper = mean + ME_z"
   ]
  },
  {
   "cell_type": "code",
   "execution_count": 17,
   "id": "7d5bacbd-ed89-452f-8680-cbdc9af88424",
   "metadata": {},
   "outputs": [
    {
     "data": {
      "text/plain": [
       "(np.float64(1.1056514133957607), np.float64(1.3716819199375725))"
      ]
     },
     "execution_count": 17,
     "metadata": {},
     "output_type": "execute_result"
    }
   ],
   "source": [
    "CI_z_lower,CI_z_upper"
   ]
  },
  {
   "cell_type": "markdown",
   "id": "52c569b2-aa94-4b51-880e-d039700fc7d8",
   "metadata": {},
   "source": [
    "### Summary of both confidence intervals"
   ]
  },
  {
   "cell_type": "code",
   "execution_count": 18,
   "id": "4bb68371-8069-4ce8-9ffc-3b10f506f14f",
   "metadata": {},
   "outputs": [
    {
     "name": "stdout",
     "output_type": "stream",
     "text": [
      "1.2386666666666666\n",
      "0.19316412956959936\n",
      "(np.float64(1.0901973384384906), np.float64(1.3871359948948425)) (np.float64(1.1056514133957607), np.float64(1.3716819199375725))\n"
     ]
    }
   ],
   "source": [
    "print(mean)\n",
    "print(sample_std)\n",
    "print((CI_t_lower, CI_t_upper), (CI_z_lower, CI_z_upper))\n"
   ]
  },
  {
   "cell_type": "code",
   "execution_count": null,
   "id": "28b5e92d-b451-4bd6-8242-f7c9c235000e",
   "metadata": {},
   "outputs": [],
   "source": []
  }
 ],
 "metadata": {
  "kernelspec": {
   "display_name": "Python 3 (ipykernel)",
   "language": "python",
   "name": "python3"
  },
  "language_info": {
   "codemirror_mode": {
    "name": "ipython",
    "version": 3
   },
   "file_extension": ".py",
   "mimetype": "text/x-python",
   "name": "python",
   "nbconvert_exporter": "python",
   "pygments_lexer": "ipython3",
   "version": "3.13.5"
  }
 },
 "nbformat": 4,
 "nbformat_minor": 5
}
