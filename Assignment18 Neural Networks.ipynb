{
 "cells": [
  {
   "cell_type": "markdown",
   "id": "53faa58c-4d94-4478-96a2-b4251d8ccea2",
   "metadata": {},
   "source": [
    "# Assignment 18: Neural Network"
   ]
  },
  {
   "cell_type": "code",
   "execution_count": 1,
   "id": "f51fb0e4-2632-4977-b57d-219f37ac29f3",
   "metadata": {},
   "outputs": [],
   "source": [
    "import pandas as pd\n",
    "import numpy as np\n",
    "from sklearn.model_selection import train_test_split, GridSearchCV\n",
    "from sklearn.preprocessing import StandardScaler, LabelBinarizer\n",
    "from sklearn.metrics import accuracy_score, classification_report\n",
    "from tensorflow.keras.models import Sequential\n",
    "from tensorflow.keras.layers import Dense\n",
    "from scikeras.wrappers import KerasClassifier\n",
    "from tensorflow.keras.optimizers import Adam\n",
    "import warnings\n",
    "warnings.filterwarnings('ignore') # Suppress KerasClassifier deprecation warnings"
   ]
  },
  {
   "cell_type": "markdown",
   "id": "7db95b1a-1ede-4ae2-a29d-c5b824f63ff0",
   "metadata": {},
   "source": [
    "##   1. Data Exploration and Preprocessing"
   ]
  },
  {
   "cell_type": "code",
   "execution_count": 2,
   "id": "a88c007e-f2b0-4992-a74f-8abd52733c1a",
   "metadata": {},
   "outputs": [],
   "source": [
    "df=pd.read_csv(\"Alphabets_data.csv\")"
   ]
  },
  {
   "cell_type": "code",
   "execution_count": 3,
   "id": "6f0af4e0-cd35-44db-99e2-0b6243819638",
   "metadata": {},
   "outputs": [
    {
     "data": {
      "text/html": [
       "<div>\n",
       "<style scoped>\n",
       "    .dataframe tbody tr th:only-of-type {\n",
       "        vertical-align: middle;\n",
       "    }\n",
       "\n",
       "    .dataframe tbody tr th {\n",
       "        vertical-align: top;\n",
       "    }\n",
       "\n",
       "    .dataframe thead th {\n",
       "        text-align: right;\n",
       "    }\n",
       "</style>\n",
       "<table border=\"1\" class=\"dataframe\">\n",
       "  <thead>\n",
       "    <tr style=\"text-align: right;\">\n",
       "      <th></th>\n",
       "      <th>letter</th>\n",
       "      <th>xbox</th>\n",
       "      <th>ybox</th>\n",
       "      <th>width</th>\n",
       "      <th>height</th>\n",
       "      <th>onpix</th>\n",
       "      <th>xbar</th>\n",
       "      <th>ybar</th>\n",
       "      <th>x2bar</th>\n",
       "      <th>y2bar</th>\n",
       "      <th>xybar</th>\n",
       "      <th>x2ybar</th>\n",
       "      <th>xy2bar</th>\n",
       "      <th>xedge</th>\n",
       "      <th>xedgey</th>\n",
       "      <th>yedge</th>\n",
       "      <th>yedgex</th>\n",
       "    </tr>\n",
       "  </thead>\n",
       "  <tbody>\n",
       "    <tr>\n",
       "      <th>0</th>\n",
       "      <td>T</td>\n",
       "      <td>2</td>\n",
       "      <td>8</td>\n",
       "      <td>3</td>\n",
       "      <td>5</td>\n",
       "      <td>1</td>\n",
       "      <td>8</td>\n",
       "      <td>13</td>\n",
       "      <td>0</td>\n",
       "      <td>6</td>\n",
       "      <td>6</td>\n",
       "      <td>10</td>\n",
       "      <td>8</td>\n",
       "      <td>0</td>\n",
       "      <td>8</td>\n",
       "      <td>0</td>\n",
       "      <td>8</td>\n",
       "    </tr>\n",
       "    <tr>\n",
       "      <th>1</th>\n",
       "      <td>I</td>\n",
       "      <td>5</td>\n",
       "      <td>12</td>\n",
       "      <td>3</td>\n",
       "      <td>7</td>\n",
       "      <td>2</td>\n",
       "      <td>10</td>\n",
       "      <td>5</td>\n",
       "      <td>5</td>\n",
       "      <td>4</td>\n",
       "      <td>13</td>\n",
       "      <td>3</td>\n",
       "      <td>9</td>\n",
       "      <td>2</td>\n",
       "      <td>8</td>\n",
       "      <td>4</td>\n",
       "      <td>10</td>\n",
       "    </tr>\n",
       "    <tr>\n",
       "      <th>2</th>\n",
       "      <td>D</td>\n",
       "      <td>4</td>\n",
       "      <td>11</td>\n",
       "      <td>6</td>\n",
       "      <td>8</td>\n",
       "      <td>6</td>\n",
       "      <td>10</td>\n",
       "      <td>6</td>\n",
       "      <td>2</td>\n",
       "      <td>6</td>\n",
       "      <td>10</td>\n",
       "      <td>3</td>\n",
       "      <td>7</td>\n",
       "      <td>3</td>\n",
       "      <td>7</td>\n",
       "      <td>3</td>\n",
       "      <td>9</td>\n",
       "    </tr>\n",
       "    <tr>\n",
       "      <th>3</th>\n",
       "      <td>N</td>\n",
       "      <td>7</td>\n",
       "      <td>11</td>\n",
       "      <td>6</td>\n",
       "      <td>6</td>\n",
       "      <td>3</td>\n",
       "      <td>5</td>\n",
       "      <td>9</td>\n",
       "      <td>4</td>\n",
       "      <td>6</td>\n",
       "      <td>4</td>\n",
       "      <td>4</td>\n",
       "      <td>10</td>\n",
       "      <td>6</td>\n",
       "      <td>10</td>\n",
       "      <td>2</td>\n",
       "      <td>8</td>\n",
       "    </tr>\n",
       "    <tr>\n",
       "      <th>4</th>\n",
       "      <td>G</td>\n",
       "      <td>2</td>\n",
       "      <td>1</td>\n",
       "      <td>3</td>\n",
       "      <td>1</td>\n",
       "      <td>1</td>\n",
       "      <td>8</td>\n",
       "      <td>6</td>\n",
       "      <td>6</td>\n",
       "      <td>6</td>\n",
       "      <td>6</td>\n",
       "      <td>5</td>\n",
       "      <td>9</td>\n",
       "      <td>1</td>\n",
       "      <td>7</td>\n",
       "      <td>5</td>\n",
       "      <td>10</td>\n",
       "    </tr>\n",
       "  </tbody>\n",
       "</table>\n",
       "</div>"
      ],
      "text/plain": [
       "  letter  xbox  ybox  width  height  onpix  xbar  ybar  x2bar  y2bar  xybar  \\\n",
       "0      T     2     8      3       5      1     8    13      0      6      6   \n",
       "1      I     5    12      3       7      2    10     5      5      4     13   \n",
       "2      D     4    11      6       8      6    10     6      2      6     10   \n",
       "3      N     7    11      6       6      3     5     9      4      6      4   \n",
       "4      G     2     1      3       1      1     8     6      6      6      6   \n",
       "\n",
       "   x2ybar  xy2bar  xedge  xedgey  yedge  yedgex  \n",
       "0      10       8      0       8      0       8  \n",
       "1       3       9      2       8      4      10  \n",
       "2       3       7      3       7      3       9  \n",
       "3       4      10      6      10      2       8  \n",
       "4       5       9      1       7      5      10  "
      ]
     },
     "execution_count": 3,
     "metadata": {},
     "output_type": "execute_result"
    }
   ],
   "source": [
    "df.head()"
   ]
  },
  {
   "cell_type": "code",
   "execution_count": 4,
   "id": "6a10d3fc-f751-4d14-badf-a84fe48595c3",
   "metadata": {},
   "outputs": [
    {
     "data": {
      "text/plain": [
       "(20000, 17)"
      ]
     },
     "execution_count": 4,
     "metadata": {},
     "output_type": "execute_result"
    }
   ],
   "source": [
    "df.shape"
   ]
  },
  {
   "cell_type": "code",
   "execution_count": 5,
   "id": "4d184bf3-edc0-418c-8253-8eb4cb395d57",
   "metadata": {},
   "outputs": [
    {
     "name": "stdout",
     "output_type": "stream",
     "text": [
      "['letter', 'xbox', 'ybox', 'width', 'height', 'onpix', 'xbar', 'ybar', 'x2bar', 'y2bar', 'xybar', 'x2ybar', 'xy2bar', 'xedge', 'xedgey', 'yedge', 'yedgex']\n"
     ]
    }
   ],
   "source": [
    "print(df.columns.tolist())"
   ]
  },
  {
   "cell_type": "code",
   "execution_count": 6,
   "id": "e09dab8c-d3f5-4a33-96bd-540b8725ba27",
   "metadata": {},
   "outputs": [
    {
     "name": "stdout",
     "output_type": "stream",
     "text": [
      "<class 'pandas.core.frame.DataFrame'>\n",
      "RangeIndex: 20000 entries, 0 to 19999\n",
      "Data columns (total 17 columns):\n",
      " #   Column  Non-Null Count  Dtype \n",
      "---  ------  --------------  ----- \n",
      " 0   letter  20000 non-null  object\n",
      " 1   xbox    20000 non-null  int64 \n",
      " 2   ybox    20000 non-null  int64 \n",
      " 3   width   20000 non-null  int64 \n",
      " 4   height  20000 non-null  int64 \n",
      " 5   onpix   20000 non-null  int64 \n",
      " 6   xbar    20000 non-null  int64 \n",
      " 7   ybar    20000 non-null  int64 \n",
      " 8   x2bar   20000 non-null  int64 \n",
      " 9   y2bar   20000 non-null  int64 \n",
      " 10  xybar   20000 non-null  int64 \n",
      " 11  x2ybar  20000 non-null  int64 \n",
      " 12  xy2bar  20000 non-null  int64 \n",
      " 13  xedge   20000 non-null  int64 \n",
      " 14  xedgey  20000 non-null  int64 \n",
      " 15  yedge   20000 non-null  int64 \n",
      " 16  yedgex  20000 non-null  int64 \n",
      "dtypes: int64(16), object(1)\n",
      "memory usage: 2.6+ MB\n"
     ]
    }
   ],
   "source": [
    "df.info()"
   ]
  },
  {
   "cell_type": "code",
   "execution_count": 7,
   "id": "f4617ee6-b628-4077-bf2f-c383c0f1ddf2",
   "metadata": {},
   "outputs": [
    {
     "data": {
      "text/html": [
       "<div>\n",
       "<style scoped>\n",
       "    .dataframe tbody tr th:only-of-type {\n",
       "        vertical-align: middle;\n",
       "    }\n",
       "\n",
       "    .dataframe tbody tr th {\n",
       "        vertical-align: top;\n",
       "    }\n",
       "\n",
       "    .dataframe thead th {\n",
       "        text-align: right;\n",
       "    }\n",
       "</style>\n",
       "<table border=\"1\" class=\"dataframe\">\n",
       "  <thead>\n",
       "    <tr style=\"text-align: right;\">\n",
       "      <th></th>\n",
       "      <th>xbox</th>\n",
       "      <th>ybox</th>\n",
       "      <th>width</th>\n",
       "      <th>height</th>\n",
       "      <th>onpix</th>\n",
       "      <th>xbar</th>\n",
       "      <th>ybar</th>\n",
       "      <th>x2bar</th>\n",
       "      <th>y2bar</th>\n",
       "      <th>xybar</th>\n",
       "      <th>x2ybar</th>\n",
       "      <th>xy2bar</th>\n",
       "      <th>xedge</th>\n",
       "      <th>xedgey</th>\n",
       "      <th>yedge</th>\n",
       "      <th>yedgex</th>\n",
       "    </tr>\n",
       "  </thead>\n",
       "  <tbody>\n",
       "    <tr>\n",
       "      <th>count</th>\n",
       "      <td>20000.000000</td>\n",
       "      <td>20000.000000</td>\n",
       "      <td>20000.000000</td>\n",
       "      <td>20000.00000</td>\n",
       "      <td>20000.000000</td>\n",
       "      <td>20000.000000</td>\n",
       "      <td>20000.000000</td>\n",
       "      <td>20000.000000</td>\n",
       "      <td>20000.000000</td>\n",
       "      <td>20000.000000</td>\n",
       "      <td>20000.00000</td>\n",
       "      <td>20000.000000</td>\n",
       "      <td>20000.000000</td>\n",
       "      <td>20000.000000</td>\n",
       "      <td>20000.000000</td>\n",
       "      <td>20000.00000</td>\n",
       "    </tr>\n",
       "    <tr>\n",
       "      <th>mean</th>\n",
       "      <td>4.023550</td>\n",
       "      <td>7.035500</td>\n",
       "      <td>5.121850</td>\n",
       "      <td>5.37245</td>\n",
       "      <td>3.505850</td>\n",
       "      <td>6.897600</td>\n",
       "      <td>7.500450</td>\n",
       "      <td>4.628600</td>\n",
       "      <td>5.178650</td>\n",
       "      <td>8.282050</td>\n",
       "      <td>6.45400</td>\n",
       "      <td>7.929000</td>\n",
       "      <td>3.046100</td>\n",
       "      <td>8.338850</td>\n",
       "      <td>3.691750</td>\n",
       "      <td>7.80120</td>\n",
       "    </tr>\n",
       "    <tr>\n",
       "      <th>std</th>\n",
       "      <td>1.913212</td>\n",
       "      <td>3.304555</td>\n",
       "      <td>2.014573</td>\n",
       "      <td>2.26139</td>\n",
       "      <td>2.190458</td>\n",
       "      <td>2.026035</td>\n",
       "      <td>2.325354</td>\n",
       "      <td>2.699968</td>\n",
       "      <td>2.380823</td>\n",
       "      <td>2.488475</td>\n",
       "      <td>2.63107</td>\n",
       "      <td>2.080619</td>\n",
       "      <td>2.332541</td>\n",
       "      <td>1.546722</td>\n",
       "      <td>2.567073</td>\n",
       "      <td>1.61747</td>\n",
       "    </tr>\n",
       "    <tr>\n",
       "      <th>min</th>\n",
       "      <td>0.000000</td>\n",
       "      <td>0.000000</td>\n",
       "      <td>0.000000</td>\n",
       "      <td>0.00000</td>\n",
       "      <td>0.000000</td>\n",
       "      <td>0.000000</td>\n",
       "      <td>0.000000</td>\n",
       "      <td>0.000000</td>\n",
       "      <td>0.000000</td>\n",
       "      <td>0.000000</td>\n",
       "      <td>0.00000</td>\n",
       "      <td>0.000000</td>\n",
       "      <td>0.000000</td>\n",
       "      <td>0.000000</td>\n",
       "      <td>0.000000</td>\n",
       "      <td>0.00000</td>\n",
       "    </tr>\n",
       "    <tr>\n",
       "      <th>25%</th>\n",
       "      <td>3.000000</td>\n",
       "      <td>5.000000</td>\n",
       "      <td>4.000000</td>\n",
       "      <td>4.00000</td>\n",
       "      <td>2.000000</td>\n",
       "      <td>6.000000</td>\n",
       "      <td>6.000000</td>\n",
       "      <td>3.000000</td>\n",
       "      <td>4.000000</td>\n",
       "      <td>7.000000</td>\n",
       "      <td>5.00000</td>\n",
       "      <td>7.000000</td>\n",
       "      <td>1.000000</td>\n",
       "      <td>8.000000</td>\n",
       "      <td>2.000000</td>\n",
       "      <td>7.00000</td>\n",
       "    </tr>\n",
       "    <tr>\n",
       "      <th>50%</th>\n",
       "      <td>4.000000</td>\n",
       "      <td>7.000000</td>\n",
       "      <td>5.000000</td>\n",
       "      <td>6.00000</td>\n",
       "      <td>3.000000</td>\n",
       "      <td>7.000000</td>\n",
       "      <td>7.000000</td>\n",
       "      <td>4.000000</td>\n",
       "      <td>5.000000</td>\n",
       "      <td>8.000000</td>\n",
       "      <td>6.00000</td>\n",
       "      <td>8.000000</td>\n",
       "      <td>3.000000</td>\n",
       "      <td>8.000000</td>\n",
       "      <td>3.000000</td>\n",
       "      <td>8.00000</td>\n",
       "    </tr>\n",
       "    <tr>\n",
       "      <th>75%</th>\n",
       "      <td>5.000000</td>\n",
       "      <td>9.000000</td>\n",
       "      <td>6.000000</td>\n",
       "      <td>7.00000</td>\n",
       "      <td>5.000000</td>\n",
       "      <td>8.000000</td>\n",
       "      <td>9.000000</td>\n",
       "      <td>6.000000</td>\n",
       "      <td>7.000000</td>\n",
       "      <td>10.000000</td>\n",
       "      <td>8.00000</td>\n",
       "      <td>9.000000</td>\n",
       "      <td>4.000000</td>\n",
       "      <td>9.000000</td>\n",
       "      <td>5.000000</td>\n",
       "      <td>9.00000</td>\n",
       "    </tr>\n",
       "    <tr>\n",
       "      <th>max</th>\n",
       "      <td>15.000000</td>\n",
       "      <td>15.000000</td>\n",
       "      <td>15.000000</td>\n",
       "      <td>15.00000</td>\n",
       "      <td>15.000000</td>\n",
       "      <td>15.000000</td>\n",
       "      <td>15.000000</td>\n",
       "      <td>15.000000</td>\n",
       "      <td>15.000000</td>\n",
       "      <td>15.000000</td>\n",
       "      <td>15.00000</td>\n",
       "      <td>15.000000</td>\n",
       "      <td>15.000000</td>\n",
       "      <td>15.000000</td>\n",
       "      <td>15.000000</td>\n",
       "      <td>15.00000</td>\n",
       "    </tr>\n",
       "  </tbody>\n",
       "</table>\n",
       "</div>"
      ],
      "text/plain": [
       "               xbox          ybox         width       height         onpix  \\\n",
       "count  20000.000000  20000.000000  20000.000000  20000.00000  20000.000000   \n",
       "mean       4.023550      7.035500      5.121850      5.37245      3.505850   \n",
       "std        1.913212      3.304555      2.014573      2.26139      2.190458   \n",
       "min        0.000000      0.000000      0.000000      0.00000      0.000000   \n",
       "25%        3.000000      5.000000      4.000000      4.00000      2.000000   \n",
       "50%        4.000000      7.000000      5.000000      6.00000      3.000000   \n",
       "75%        5.000000      9.000000      6.000000      7.00000      5.000000   \n",
       "max       15.000000     15.000000     15.000000     15.00000     15.000000   \n",
       "\n",
       "               xbar          ybar         x2bar         y2bar         xybar  \\\n",
       "count  20000.000000  20000.000000  20000.000000  20000.000000  20000.000000   \n",
       "mean       6.897600      7.500450      4.628600      5.178650      8.282050   \n",
       "std        2.026035      2.325354      2.699968      2.380823      2.488475   \n",
       "min        0.000000      0.000000      0.000000      0.000000      0.000000   \n",
       "25%        6.000000      6.000000      3.000000      4.000000      7.000000   \n",
       "50%        7.000000      7.000000      4.000000      5.000000      8.000000   \n",
       "75%        8.000000      9.000000      6.000000      7.000000     10.000000   \n",
       "max       15.000000     15.000000     15.000000     15.000000     15.000000   \n",
       "\n",
       "            x2ybar        xy2bar         xedge        xedgey         yedge  \\\n",
       "count  20000.00000  20000.000000  20000.000000  20000.000000  20000.000000   \n",
       "mean       6.45400      7.929000      3.046100      8.338850      3.691750   \n",
       "std        2.63107      2.080619      2.332541      1.546722      2.567073   \n",
       "min        0.00000      0.000000      0.000000      0.000000      0.000000   \n",
       "25%        5.00000      7.000000      1.000000      8.000000      2.000000   \n",
       "50%        6.00000      8.000000      3.000000      8.000000      3.000000   \n",
       "75%        8.00000      9.000000      4.000000      9.000000      5.000000   \n",
       "max       15.00000     15.000000     15.000000     15.000000     15.000000   \n",
       "\n",
       "            yedgex  \n",
       "count  20000.00000  \n",
       "mean       7.80120  \n",
       "std        1.61747  \n",
       "min        0.00000  \n",
       "25%        7.00000  \n",
       "50%        8.00000  \n",
       "75%        9.00000  \n",
       "max       15.00000  "
      ]
     },
     "execution_count": 7,
     "metadata": {},
     "output_type": "execute_result"
    }
   ],
   "source": [
    "df.describe()"
   ]
  },
  {
   "cell_type": "code",
   "execution_count": 8,
   "id": "8f5a72f7-4972-4862-affb-32f2b245e372",
   "metadata": {},
   "outputs": [
    {
     "data": {
      "text/plain": [
       "letter    0\n",
       "xbox      0\n",
       "ybox      0\n",
       "width     0\n",
       "height    0\n",
       "onpix     0\n",
       "xbar      0\n",
       "ybar      0\n",
       "x2bar     0\n",
       "y2bar     0\n",
       "xybar     0\n",
       "x2ybar    0\n",
       "xy2bar    0\n",
       "xedge     0\n",
       "xedgey    0\n",
       "yedge     0\n",
       "yedgex    0\n",
       "dtype: int64"
      ]
     },
     "execution_count": 8,
     "metadata": {},
     "output_type": "execute_result"
    }
   ],
   "source": [
    "df.isnull().sum()"
   ]
  },
  {
   "cell_type": "markdown",
   "id": "b202acfb-258d-4460-9661-11d3d7e960e6",
   "metadata": {},
   "source": [
    "## 1. Data Exploration & Preprocessing\n",
    "\n",
    "- **Dataset:** `Alphabets_data.csv`  \n",
    "- **Samples:** 20,000 rows (handwritten alphabet examples)  \n",
    "- **Features:** 16 numerical features describing each alphabet  \n",
    "- **Target:** `letter` column (A–Z, 26 classes)  \n",
    "\n",
    "**Preprocessing steps applied:**\n",
    "- Checked dataset shape and missing values.  \n",
    "- Converted categorical target (`letter`) into **one-hot encoded** vectors using `LabelBinarizer`.  \n",
    "- Normalized all features using **StandardScaler**.  \n",
    "- Performed an **80/20 stratified train-test split** to preserve class balance.\n"
   ]
  },
  {
   "cell_type": "markdown",
   "id": "9efb03e0-a2b6-495c-a6bc-5afc1d826563",
   "metadata": {},
   "source": [
    "## 2.Model Implementation"
   ]
  },
  {
   "cell_type": "code",
   "execution_count": 9,
   "id": "2148ddc2-a09b-4a53-9912-79751d133b8d",
   "metadata": {},
   "outputs": [],
   "source": [
    "# Separate features (X) and target (y)\n",
    "X = df.drop('letter', axis=1)\n",
    "y = df['letter']"
   ]
  },
  {
   "cell_type": "code",
   "execution_count": 10,
   "id": "cb179f7c-94a6-4eb6-8b26-71e0d6911164",
   "metadata": {},
   "outputs": [],
   "source": [
    "# Target variable preparation: One-Hot Encoding\n",
    "# Convert the 'letter' classes (A, B, C, ...) into numerical format for the model\n",
    "binarizer = LabelBinarizer()\n",
    "y_encoded = binarizer.fit_transform(y)\n",
    "num_classes = y_encoded.shape[1] # Total number of unique alphabet classes\n",
    "target_names = binarizer.classes_\n"
   ]
  },
  {
   "cell_type": "code",
   "execution_count": 11,
   "id": "d0ed9737-a65b-4ad9-be43-d5cad76caef9",
   "metadata": {},
   "outputs": [],
   "source": [
    "# Feature Scaling: Normalization using StandardScaler\n",
    "scaler = StandardScaler()\n",
    "X_scaled = scaler.fit_transform(X)"
   ]
  },
  {
   "cell_type": "code",
   "execution_count": 12,
   "id": "caeee675-33f8-4bd1-a969-0c0096586a1c",
   "metadata": {},
   "outputs": [],
   "source": [
    "# Split the data into training and test sets (80/20 split is common)\n",
    "X_train, X_test, y_train, y_test = train_test_split(\n",
    "    X_scaled, y_encoded, test_size=0.2, random_state=42, stratify=y\n",
    ")"
   ]
  },
  {
   "cell_type": "code",
   "execution_count": 13,
   "id": "75053ab7-f145-456c-9839-2d3add115f82",
   "metadata": {},
   "outputs": [
    {
     "name": "stdout",
     "output_type": "stream",
     "text": [
      "\n",
      "Training set size: 16000 samples\n",
      "Test set size: 4000 samples\n",
      "--------------------------------------\n",
      "\n"
     ]
    }
   ],
   "source": [
    "print(f\"\\nTraining set size: {X_train.shape[0]} samples\")\n",
    "print(f\"Test set size: {X_test.shape[0]} samples\")\n",
    "print(\"--------------------------------------\\n\")\n"
   ]
  },
  {
   "cell_type": "markdown",
   "id": "bfc8494e-bc20-43f5-9d84-d4acc3c19710",
   "metadata": {},
   "source": [
    "## 2. Basic Model Implementation\n",
    "\n",
    "- **Model Architecture:**  \n",
    "  - Input Layer → 16 features  \n",
    "  - Hidden Layer → 64 neurons, `ReLU` activation  \n",
    "  - Output Layer → 26 neurons, `Softmax` activation  \n",
    "\n",
    "- **Compilation:**  \n",
    "  - Optimizer: `Adam`  \n",
    "  - Loss: `Categorical Crossentropy`  \n",
    "  - Metric: `Accuracy`\n",
    "\n",
    "- **Training:**  \n",
    "  - 20 epochs  \n",
    "  - Batch size: 32  \n",
    "\n",
    "The basic model was trained and evaluated on the test set.\n"
   ]
  },
  {
   "cell_type": "markdown",
   "id": "49643090-bb9b-4e4d-ae56-3ad7516cafde",
   "metadata": {},
   "source": [
    "## 3.Hyperparameter Tuning"
   ]
  },
  {
   "cell_type": "code",
   "execution_count": 14,
   "id": "2d7998de-7a4c-4a73-be06-0e04bbe182ac",
   "metadata": {},
   "outputs": [],
   "source": [
    "# Define a function to create the basic model\n",
    "def create_basic_model(input_dim=X_train.shape[1], output_dim=num_classes):\n",
    "    model = Sequential([\n",
    "        # Input layer and one Hidden layer (required by assignment)\n",
    "        Dense(units=64, activation='relu', input_shape=(input_dim,)),\n",
    "        # Output layer\n",
    "        Dense(units=output_dim, activation='softmax')\n",
    "    ])\n",
    "    \n",
    "    # Compile the model\n",
    "    # Using 'adam' optimizer and 'categorical_crossentropy' for multi-class classification\n",
    "    model.compile(optimizer='adam', \n",
    "                  loss='categorical_crossentropy', \n",
    "                  metrics=['accuracy'])\n",
    "    return model\n"
   ]
  },
  {
   "cell_type": "code",
   "execution_count": 15,
   "id": "186590cf-fa1e-42e8-8569-dcfd5de2ac7f",
   "metadata": {},
   "outputs": [
    {
     "name": "stdout",
     "output_type": "stream",
     "text": [
      "--- Training Basic ANN Model ---\n",
      "Basic Model Training Complete.\n"
     ]
    }
   ],
   "source": [
    "# Create and train the basic model\n",
    "basic_model = create_basic_model()\n",
    "print(\"--- Training Basic ANN Model ---\")\n",
    "history = basic_model.fit(\n",
    "    X_train, y_train,\n",
    "    epochs=10, \n",
    "    batch_size=32, \n",
    "    verbose=0, # Set to 1 or 2 for progress bar\n",
    "    validation_data=(X_test, y_test)\n",
    ")\n",
    "print(\"Basic Model Training Complete.\")"
   ]
  },
  {
   "cell_type": "code",
   "execution_count": 16,
   "id": "c1bbbd12-c5b0-4eed-92b4-601fb962eef8",
   "metadata": {},
   "outputs": [
    {
     "name": "stdout",
     "output_type": "stream",
     "text": [
      "\n",
      "Basic Model (Default Hyperparameters) Accuracy: 88.00%\n"
     ]
    }
   ],
   "source": [
    "# Evaluate the basic model\n",
    "loss, accuracy = basic_model.evaluate(X_test, y_test, verbose=0)\n",
    "print(f\"\\nBasic Model (Default Hyperparameters) Accuracy: {accuracy*100:.2f}%\")"
   ]
  },
  {
   "cell_type": "code",
   "execution_count": 17,
   "id": "feed2306-b599-4100-9bb5-a29095a9ac23",
   "metadata": {},
   "outputs": [],
   "source": [
    "# The KerasClassifier wrapper is used to make Keras models compatible with scikit-learn's GridSearchCV\n",
    "def create_tunable_model(optimizer='adam', neurons=64, activation='relu', input_dim=X_train.shape[1], output_dim=num_classes):\n",
    "    model = Sequential([\n",
    "        Dense(units=neurons, activation=activation, input_shape=(input_dim,)),\n",
    "        Dense(units=output_dim, activation='softmax')\n",
    "    ])\n",
    "    # Note: Learning rate is adjusted via the specific optimizer (e.g., Adam)\n",
    "    model.compile(optimizer=optimizer, \n",
    "                  loss='categorical_crossentropy', \n",
    "                  metrics=['accuracy'])\n",
    "    return model"
   ]
  },
  {
   "cell_type": "code",
   "execution_count": 18,
   "id": "4cb43675-0126-41b8-9736-158e33f4d064",
   "metadata": {},
   "outputs": [],
   "source": [
    "# Wrap the Keras model in the KerasClassifier\n",
    "keras_clf = KerasClassifier(\n",
    "    model=create_tunable_model, \n",
    "    verbose=0,\n",
    "    # Set static parameters for tuning (these are part of the 'fit' process)\n",
    "    batch_size=32, \n",
    "    epochs=10 \n",
    ")"
   ]
  },
  {
   "cell_type": "code",
   "execution_count": 19,
   "id": "51f7f15d-d362-4881-bd6e-69e431f7475d",
   "metadata": {},
   "outputs": [],
   "source": [
    "# Define the Hyperparameter Grid for GridSearchCV\n",
    "param_grid = {\n",
    "    'model__neurons': [32, 64, 128],             # Number of neurons in the hidden layer\n",
    "    'model__activation': ['relu', 'tanh'],      # Activation function\n",
    "    'optimizer': ['adam', 'rmsprop'],           # Optimization algorithm\n",
    "}"
   ]
  },
  {
   "cell_type": "code",
   "execution_count": 20,
   "id": "fb4b669a-8aaa-4c55-88b8-a50439c6e0eb",
   "metadata": {},
   "outputs": [],
   "source": [
    "# Setup GridSearchCV (Cross-Validation for tuning)\n",
    "# Note: This process can be computationally intensive and take a while.\n",
    "grid_search = GridSearchCV(\n",
    "    estimator=keras_clf, \n",
    "    param_grid=param_grid, \n",
    "    scoring='accuracy', \n",
    "    cv=3, # 3-fold cross-validation\n",
    "    verbose=1, \n",
    "    n_jobs=-1 # Use all available cores\n",
    ")"
   ]
  },
  {
   "cell_type": "code",
   "execution_count": 21,
   "id": "30890b04-bfdb-403c-9990-f4dc38299819",
   "metadata": {},
   "outputs": [
    {
     "name": "stdout",
     "output_type": "stream",
     "text": [
      "\n",
      "--- Starting Hyperparameter Tuning (Grid Search) ---\n",
      "Fitting 3 folds for each of 12 candidates, totalling 36 fits\n",
      "Hyperparameter Tuning Complete.\n"
     ]
    }
   ],
   "source": [
    "print(\"\\n--- Starting Hyperparameter Tuning (Grid Search) ---\")\n",
    "grid_search.fit(X_train, y_train)\n",
    "print(\"Hyperparameter Tuning Complete.\")"
   ]
  },
  {
   "cell_type": "code",
   "execution_count": 22,
   "id": "43e56b8a-a674-442c-8c06-043b8d6e2915",
   "metadata": {},
   "outputs": [],
   "source": [
    "# Get the best parameters and score\n",
    "best_params = grid_search.best_params_\n",
    "best_score = grid_search.best_score_\n",
    "best_model = grid_search.best_estimator_"
   ]
  },
  {
   "cell_type": "code",
   "execution_count": 23,
   "id": "707b7493-5f2a-47d0-a162-870116fb1041",
   "metadata": {},
   "outputs": [
    {
     "name": "stdout",
     "output_type": "stream",
     "text": [
      "\n",
      "Best Cross-Validation Accuracy Score: 88.22%\n",
      "Best Parameters Found: {'model__activation': 'relu', 'model__neurons': 128, 'optimizer': 'adam'}\n"
     ]
    }
   ],
   "source": [
    "print(f\"\\nBest Cross-Validation Accuracy Score: {best_score*100:.2f}%\")\n",
    "print(f\"Best Parameters Found: {best_params}\")"
   ]
  },
  {
   "cell_type": "markdown",
   "id": "f6357d74-2563-4daa-8f03-01d3e6038d0c",
   "metadata": {},
   "source": [
    "## 3. Hyperparameter Tuning\n",
    "\n",
    "To improve the model, **GridSearchCV** was used with `KerasClassifier` from `scikeras`.\n",
    "\n",
    "- **Parameters tuned:**\n",
    "  - Number of neurons in hidden layer: [32, 64, 128]\n",
    "  - Activation function: ['relu', 'tanh']\n",
    "  - Optimizer: ['adam', 'rmsprop']\n",
    "\n",
    "- **Method:**\n",
    "  - 3-fold cross-validation  \n",
    "  - Accuracy used as the scoring metric  \n",
    "\n",
    "- **Output:**\n",
    "  - Best parameter combination (neurons, activation, optimizer)  \n",
    "  - Best cross-validation accuracy\n"
   ]
  },
  {
   "cell_type": "markdown",
   "id": "1abd413b-a067-47b6-89cb-4b56a8233b4a",
   "metadata": {},
   "source": [
    "## 4. Evaluation"
   ]
  },
  {
   "cell_type": "code",
   "execution_count": 26,
   "id": "e8853dbb-f55e-4b5e-b9d2-ee8b1e339127",
   "metadata": {},
   "outputs": [
    {
     "name": "stdout",
     "output_type": "stream",
     "text": [
      "\n",
      "--- Final Evaluation of Tuned Model ---\n",
      "Tuned Model Test Accuracy: 90.62%\n"
     ]
    }
   ],
   "source": [
    "# Evaluate the best (tuned) model on the held-out test set\n",
    "print(\"\\n--- Final Evaluation of Tuned Model ---\")\n",
    "test_accuracy = best_model.score(X_test, y_test)\n",
    "print(f\"Tuned Model Test Accuracy: {test_accuracy*100:.2f}%\")"
   ]
  },
  {
   "cell_type": "code",
   "execution_count": 27,
   "id": "0937f27a-66d4-471e-b737-b4c99f4f48cc",
   "metadata": {},
   "outputs": [],
   "source": [
    "# Generate detailed classification report\n",
    "y_pred_probs = best_model.predict(X_test)\n",
    "y_pred_classes = np.argmax(y_pred_probs, axis=1)\n",
    "y_test_classes = np.argmax(y_test, axis=1)\n"
   ]
  },
  {
   "cell_type": "code",
   "execution_count": 28,
   "id": "177ce43d-99f0-4c8e-838d-e78c19bfd8a7",
   "metadata": {},
   "outputs": [],
   "source": [
    "\n",
    "# Get class names for the report (A, B, C, ...)\n",
    "target_names = binarizer.classes_"
   ]
  },
  {
   "cell_type": "code",
   "execution_count": 29,
   "id": "92239201-91cf-4db8-8d07-cfa7bd1d1edb",
   "metadata": {},
   "outputs": [
    {
     "name": "stdout",
     "output_type": "stream",
     "text": [
      "\n",
      "Detailed Classification Report (Tuned Model):\n",
      "              precision    recall  f1-score   support\n",
      "\n",
      "           A       0.93      0.95      0.94       158\n",
      "           B       0.84      0.91      0.87       153\n",
      "           C       0.91      0.95      0.93       147\n",
      "           D       0.88      0.91      0.90       161\n",
      "           E       0.79      0.94      0.86       154\n",
      "           F       0.82      0.86      0.84       155\n",
      "           G       0.90      0.88      0.89       155\n",
      "           H       0.89      0.76      0.82       147\n",
      "           I       0.96      0.85      0.91       151\n",
      "           J       0.96      0.94      0.95       149\n",
      "           K       0.89      0.89      0.89       148\n",
      "           L       0.96      0.90      0.93       152\n",
      "           M       0.97      0.92      0.94       158\n",
      "           N       0.92      0.90      0.91       157\n",
      "           O       0.87      0.91      0.89       150\n",
      "           P       0.97      0.90      0.94       161\n",
      "           Q       0.94      0.96      0.95       157\n",
      "           R       0.81      0.87      0.84       151\n",
      "           S       0.90      0.87      0.89       150\n",
      "           T       0.95      0.86      0.90       159\n",
      "           U       0.94      0.98      0.96       163\n",
      "           V       0.97      0.91      0.94       153\n",
      "           W       0.94      0.99      0.96       150\n",
      "           X       0.88      0.90      0.89       157\n",
      "           Y       0.87      0.96      0.91       157\n",
      "           Z       0.98      0.88      0.93       147\n",
      "\n",
      "    accuracy                           0.91      4000\n",
      "   macro avg       0.91      0.91      0.91      4000\n",
      "weighted avg       0.91      0.91      0.91      4000\n",
      "\n"
     ]
    }
   ],
   "source": [
    "print(\"\\nDetailed Classification Report (Tuned Model):\")\n",
    "# Use the class names derived from the LabelBinarizer\n",
    "print(classification_report(y_test_classes, y_pred_classes, target_names=target_names, zero_division=0))"
   ]
  },
  {
   "cell_type": "code",
   "execution_count": 30,
   "id": "27edb048-f188-4506-8de7-089fc1572724",
   "metadata": {},
   "outputs": [
    {
     "name": "stdout",
     "output_type": "stream",
     "text": [
      "\n",
      "--- Discussion Summary ---\n",
      "Initial Model Accuracy (Test Set): 88.00%\n",
      "Tuned Model Accuracy (Test Set): 90.62%\n",
      "\n",
      "Discussion: The tuned model typically achieves a higher accuracy by optimizing the architecture and training process (neurons, activation, optimizer). For example, a wider model (more neurons) or a more robust optimizer (like 'adam' over 'rmsprop' for this dataset) can lead to better generalization and a noticeable improvement in classification performance compared to the basic model.\n"
     ]
    }
   ],
   "source": [
    "# --- Discussion Summary ---\n",
    "print(\"\\n--- Discussion Summary ---\")\n",
    "print(f\"Initial Model Accuracy (Test Set): {accuracy*100:.2f}%\")\n",
    "print(f\"Tuned Model Accuracy (Test Set): {test_accuracy*100:.2f}%\")\n",
    "print(\"\\nDiscussion: The tuned model typically achieves a higher accuracy by optimizing the architecture and training process (neurons, activation, optimizer). For example, a wider model (more neurons) or a more robust optimizer (like 'adam' over 'rmsprop' for this dataset) can lead to better generalization and a noticeable improvement in classification performance compared to the basic model.\")"
   ]
  },
  {
   "cell_type": "markdown",
   "id": "e090ab36-2c76-49cb-98f1-5a24d7b05261",
   "metadata": {},
   "source": [
    "## 4. Final Evaluation & Discussion\n",
    "\n",
    "- **Evaluation Metrics:**  \n",
    "  - Test set accuracy of the **basic model**  \n",
    "  - Test set accuracy of the **tuned model**  \n",
    "  - Classification report (precision, recall, F1-score for all 26 classes)  \n",
    "\n",
    "- **Comparison:**  \n",
    "  - The tuned model showed improved accuracy compared to the baseline model.  \n",
    "  - Increasing neurons and using an appropriate optimizer helped the network learn complex patterns better.  \n",
    "  - Some letters (like those visually similar) had lower precision/recall, highlighting dataset challenges.\n",
    "\n",
    "---\n",
    "\n",
    "### 📌 Summary\n",
    "- **Initial Model Accuracy:** ~ (from output)  \n",
    "- **Tuned Model Accuracy:** ~ (from output)  \n",
    "- **Improvement:** Hyperparameter tuning significantly improved performance.  \n",
    "\n",
    "**Conclusion:** ANN with hyperparameter tuning is effective for alphabet classification.  \n"
   ]
  },
  {
   "cell_type": "code",
   "execution_count": null,
   "id": "dcc46923-cd52-4323-b664-1258d2323c76",
   "metadata": {},
   "outputs": [],
   "source": []
  }
 ],
 "metadata": {
  "kernelspec": {
   "display_name": "Python 3 (ipykernel)",
   "language": "python",
   "name": "python3"
  },
  "language_info": {
   "codemirror_mode": {
    "name": "ipython",
    "version": 3
   },
   "file_extension": ".py",
   "mimetype": "text/x-python",
   "name": "python",
   "nbconvert_exporter": "python",
   "pygments_lexer": "ipython3",
   "version": "3.13.5"
  }
 },
 "nbformat": 4,
 "nbformat_minor": 5
}
