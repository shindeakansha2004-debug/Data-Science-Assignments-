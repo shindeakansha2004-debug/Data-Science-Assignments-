{
 "cells": [
  {
   "cell_type": "markdown",
   "id": "5713e58f-ddbf-4476-a788-da95e633a939",
   "metadata": {},
   "source": [
    "# HYPOTHESIS TESTING"
   ]
  },
  {
   "cell_type": "code",
   "execution_count": 1,
   "id": "a096dea8-179a-4077-bf2d-023cf593ab77",
   "metadata": {},
   "outputs": [],
   "source": [
    "import math\n",
    "import scipy.stats as st"
   ]
  },
  {
   "cell_type": "markdown",
   "id": "4a638c2a-a992-48a0-a974-df09e40d9edb",
   "metadata": {},
   "source": [
    "### Step 1: Define the parameters "
   ]
  },
  {
   "cell_type": "code",
   "execution_count": 2,
   "id": "5a5a2095-1826-4471-852f-75ff1baf8aac",
   "metadata": {},
   "outputs": [],
   "source": [
    "sample_mean = 3050      # x̄ (mean weekly cost from sample)\n",
    "X = 600                 # units produced\n",
    "theoretical_mean = 1000 + 5 * X  # μ (model-based weekly cost)\n",
    "sigma = 5 * 25          # standard deviation of cost\n",
    "n = 25                  # sample size\n",
    "alpha = 0.05            # significance level"
   ]
  },
  {
   "cell_type": "markdown",
   "id": "6de5f281-007c-4ec7-9f3d-ad34c2ddd0a1",
   "metadata": {},
   "source": [
    "### Step 2: Calculate test statistic"
   ]
  },
  {
   "cell_type": "code",
   "execution_count": 3,
   "id": "fae7b63e-bdc8-428b-bd6c-fa3bb3f07347",
   "metadata": {},
   "outputs": [
    {
     "data": {
      "text/plain": [
       "(25.0, -38.0)"
      ]
     },
     "execution_count": 3,
     "metadata": {},
     "output_type": "execute_result"
    }
   ],
   "source": [
    "standard_error = sigma / math.sqrt(n)\n",
    "t_statistic = (sample_mean - theoretical_mean) / standard_error\n",
    "standard_error,t_statistic"
   ]
  },
  {
   "cell_type": "markdown",
   "id": "60b67816-a919-4162-84b8-df8e6f14c4c5",
   "metadata": {},
   "source": [
    "### Step 3: Critical value for Z-distribution "
   ]
  },
  {
   "cell_type": "code",
   "execution_count": 4,
   "id": "1ef630cf-d343-44b6-a184-44c84c98657e",
   "metadata": {},
   "outputs": [
    {
     "data": {
      "text/plain": [
       "np.float64(1.6448536269514722)"
      ]
     },
     "execution_count": 4,
     "metadata": {},
     "output_type": "execute_result"
    }
   ],
   "source": [
    "critical_value = st.norm.ppf(1 - alpha)\n",
    "critical_value"
   ]
  },
  {
   "cell_type": "markdown",
   "id": "df405203-f551-4e1a-81ff-ccd47b5617d3",
   "metadata": {},
   "source": [
    "### Step 4: Decision "
   ]
  },
  {
   "cell_type": "code",
   "execution_count": 7,
   "id": "81edc031-5b93-4d9a-9220-2e4bf7407769",
   "metadata": {},
   "outputs": [
    {
     "name": "stdout",
     "output_type": "stream",
     "text": [
      "Decision: Fail to reject H₀: No evidence that weekly costs are higher.\n"
     ]
    }
   ],
   "source": [
    "if t_statistic > critical_value:\n",
    "    decision = \"Reject H₀: There is evidence that weekly costs are higher.\"\n",
    "else:\n",
    "    decision = \"Fail to reject H₀: No evidence that weekly costs are higher.\"\n",
    "print(\"Decision:\", decision)"
   ]
  },
  {
   "cell_type": "code",
   "execution_count": null,
   "id": "985c991d-720d-48a3-b46a-414759003594",
   "metadata": {},
   "outputs": [],
   "source": []
  }
 ],
 "metadata": {
  "kernelspec": {
   "display_name": "Python 3 (ipykernel)",
   "language": "python",
   "name": "python3"
  },
  "language_info": {
   "codemirror_mode": {
    "name": "ipython",
    "version": 3
   },
   "file_extension": ".py",
   "mimetype": "text/x-python",
   "name": "python",
   "nbconvert_exporter": "python",
   "pygments_lexer": "ipython3",
   "version": "3.13.5"
  }
 },
 "nbformat": 4,
 "nbformat_minor": 5
}
