{
 "cells": [
  {
   "cell_type": "markdown",
   "id": "a5f318e4-c581-4339-808d-c6fd3fb69937",
   "metadata": {},
   "source": [
    "# Assignment 10: Association Rules"
   ]
  },
  {
   "cell_type": "markdown",
   "id": "3e6f1c9b-db0c-4569-b1f2-4dd8d2659c4a",
   "metadata": {},
   "source": [
    "## Import Libraries"
   ]
  },
  {
   "cell_type": "code",
   "execution_count": 1,
   "id": "a27864f2-82fe-48be-be88-e43f244d9d64",
   "metadata": {},
   "outputs": [],
   "source": [
    "import pandas as pd\n",
    "import numpy as np\n",
    "import seaborn as sns\n",
    "import matplotlib.pyplot as plt\n",
    "from mlxtend.frequent_patterns import apriori,association_rules\n",
    "from mlxtend.preprocessing import TransactionEncoder\n",
    "import io"
   ]
  },
  {
   "cell_type": "markdown",
   "id": "7212899c-2eaa-4a92-b533-b8a071e03b22",
   "metadata": {},
   "source": [
    "## Load The Dataset"
   ]
  },
  {
   "cell_type": "code",
   "execution_count": 2,
   "id": "a220dbe1-8762-4d03-82b9-8ec193b44901",
   "metadata": {},
   "outputs": [],
   "source": [
    "# Load the file without treating first row as header\n",
    "df = pd.read_excel('Online retail.xlsx', sheet_name='Sheet1', header=None)\n"
   ]
  },
  {
   "cell_type": "code",
   "execution_count": 3,
   "id": "020ff4aa-17da-4f98-929f-3962604960d9",
   "metadata": {},
   "outputs": [
    {
     "name": "stdout",
     "output_type": "stream",
     "text": [
      "                                                   0\n",
      "0  shrimp,almonds,avocado,vegetables mix,green gr...\n",
      "1                             burgers,meatballs,eggs\n",
      "2                                            chutney\n",
      "3                                     turkey,avocado\n",
      "4  mineral water,milk,energy bar,whole wheat rice...\n"
     ]
    }
   ],
   "source": [
    "print(df.head())"
   ]
  },
  {
   "cell_type": "code",
   "execution_count": 4,
   "id": "135c7015-8184-4937-b777-59d148fe81cc",
   "metadata": {},
   "outputs": [
    {
     "data": {
      "text/plain": [
       "(7501, 1)"
      ]
     },
     "execution_count": 4,
     "metadata": {},
     "output_type": "execute_result"
    }
   ],
   "source": [
    "df.shape"
   ]
  },
  {
   "cell_type": "code",
   "execution_count": 5,
   "id": "11d36462-654a-479e-bd9f-c40e73e10f25",
   "metadata": {},
   "outputs": [
    {
     "data": {
      "text/plain": [
       "Index([0], dtype='int64')"
      ]
     },
     "execution_count": 5,
     "metadata": {},
     "output_type": "execute_result"
    }
   ],
   "source": [
    "df.columns"
   ]
  },
  {
   "cell_type": "code",
   "execution_count": 6,
   "id": "426ed0d3-4040-433f-ae5b-41ccc39417cb",
   "metadata": {},
   "outputs": [
    {
     "data": {
      "text/plain": [
       "0    0\n",
       "dtype: int64"
      ]
     },
     "execution_count": 6,
     "metadata": {},
     "output_type": "execute_result"
    }
   ],
   "source": [
    "df.isnull().sum()"
   ]
  },
  {
   "cell_type": "markdown",
   "id": "a180f31e-06ad-40c7-ba72-7a0b8faf1bdc",
   "metadata": {},
   "source": [
    "## 1. Data Preprocessing:"
   ]
  },
  {
   "cell_type": "code",
   "execution_count": 7,
   "id": "5a3826bd-76e7-435a-8b48-2718118731fe",
   "metadata": {},
   "outputs": [],
   "source": [
    "# Remove any leading/trailing whitespace from item strings\n",
    "transactions = []\n",
    "for i in range(len(df)):\n",
    "    # Safely split and strip whitespace from items\n",
    "    if pd.notna(df.iloc[i, 0]):\n",
    "        transaction = [item.strip() for item in str(df.iloc[i, 0]).split(',') if item.strip() != '']\n",
    "        if transaction:\n",
    "            transactions.append(transaction)"
   ]
  },
  {
   "cell_type": "code",
   "execution_count": 8,
   "id": "926ec54c-9d1e-478c-8ced-5fc0d8c1248e",
   "metadata": {},
   "outputs": [
    {
     "name": "stdout",
     "output_type": "stream",
     "text": [
      "Total number of transactions processed: 7501\n",
      "\n"
     ]
    }
   ],
   "source": [
    "print(f\"Total number of transactions processed: {len(transactions)}\\n\")"
   ]
  },
  {
   "cell_type": "code",
   "execution_count": 9,
   "id": "28787045-d65f-481f-9444-57cf23d3ccf4",
   "metadata": {},
   "outputs": [],
   "source": [
    "# Convert to one-hot encoded format\n",
    "te = TransactionEncoder()\n",
    "te_ary = te.fit(transactions).transform(transactions)\n",
    "df_onehot = pd.DataFrame(te_ary, columns=te.columns_)"
   ]
  },
  {
   "cell_type": "code",
   "execution_count": 10,
   "id": "d22d8f2e-53d4-4531-bdd5-51e8ad949908",
   "metadata": {},
   "outputs": [
    {
     "data": {
      "text/html": [
       "<div>\n",
       "<style scoped>\n",
       "    .dataframe tbody tr th:only-of-type {\n",
       "        vertical-align: middle;\n",
       "    }\n",
       "\n",
       "    .dataframe tbody tr th {\n",
       "        vertical-align: top;\n",
       "    }\n",
       "\n",
       "    .dataframe thead th {\n",
       "        text-align: right;\n",
       "    }\n",
       "</style>\n",
       "<table border=\"1\" class=\"dataframe\">\n",
       "  <thead>\n",
       "    <tr style=\"text-align: right;\">\n",
       "      <th></th>\n",
       "      <th>almonds</th>\n",
       "      <th>antioxydant juice</th>\n",
       "      <th>asparagus</th>\n",
       "      <th>avocado</th>\n",
       "      <th>babies food</th>\n",
       "      <th>bacon</th>\n",
       "      <th>barbecue sauce</th>\n",
       "      <th>black tea</th>\n",
       "      <th>blueberries</th>\n",
       "      <th>body spray</th>\n",
       "      <th>...</th>\n",
       "      <th>turkey</th>\n",
       "      <th>vegetables mix</th>\n",
       "      <th>water spray</th>\n",
       "      <th>white wine</th>\n",
       "      <th>whole weat flour</th>\n",
       "      <th>whole wheat pasta</th>\n",
       "      <th>whole wheat rice</th>\n",
       "      <th>yams</th>\n",
       "      <th>yogurt cake</th>\n",
       "      <th>zucchini</th>\n",
       "    </tr>\n",
       "  </thead>\n",
       "  <tbody>\n",
       "    <tr>\n",
       "      <th>0</th>\n",
       "      <td>True</td>\n",
       "      <td>True</td>\n",
       "      <td>False</td>\n",
       "      <td>True</td>\n",
       "      <td>False</td>\n",
       "      <td>False</td>\n",
       "      <td>False</td>\n",
       "      <td>False</td>\n",
       "      <td>False</td>\n",
       "      <td>False</td>\n",
       "      <td>...</td>\n",
       "      <td>False</td>\n",
       "      <td>True</td>\n",
       "      <td>False</td>\n",
       "      <td>False</td>\n",
       "      <td>True</td>\n",
       "      <td>False</td>\n",
       "      <td>False</td>\n",
       "      <td>True</td>\n",
       "      <td>False</td>\n",
       "      <td>False</td>\n",
       "    </tr>\n",
       "    <tr>\n",
       "      <th>1</th>\n",
       "      <td>False</td>\n",
       "      <td>False</td>\n",
       "      <td>False</td>\n",
       "      <td>False</td>\n",
       "      <td>False</td>\n",
       "      <td>False</td>\n",
       "      <td>False</td>\n",
       "      <td>False</td>\n",
       "      <td>False</td>\n",
       "      <td>False</td>\n",
       "      <td>...</td>\n",
       "      <td>False</td>\n",
       "      <td>False</td>\n",
       "      <td>False</td>\n",
       "      <td>False</td>\n",
       "      <td>False</td>\n",
       "      <td>False</td>\n",
       "      <td>False</td>\n",
       "      <td>False</td>\n",
       "      <td>False</td>\n",
       "      <td>False</td>\n",
       "    </tr>\n",
       "    <tr>\n",
       "      <th>2</th>\n",
       "      <td>False</td>\n",
       "      <td>False</td>\n",
       "      <td>False</td>\n",
       "      <td>False</td>\n",
       "      <td>False</td>\n",
       "      <td>False</td>\n",
       "      <td>False</td>\n",
       "      <td>False</td>\n",
       "      <td>False</td>\n",
       "      <td>False</td>\n",
       "      <td>...</td>\n",
       "      <td>False</td>\n",
       "      <td>False</td>\n",
       "      <td>False</td>\n",
       "      <td>False</td>\n",
       "      <td>False</td>\n",
       "      <td>False</td>\n",
       "      <td>False</td>\n",
       "      <td>False</td>\n",
       "      <td>False</td>\n",
       "      <td>False</td>\n",
       "    </tr>\n",
       "    <tr>\n",
       "      <th>3</th>\n",
       "      <td>False</td>\n",
       "      <td>False</td>\n",
       "      <td>False</td>\n",
       "      <td>True</td>\n",
       "      <td>False</td>\n",
       "      <td>False</td>\n",
       "      <td>False</td>\n",
       "      <td>False</td>\n",
       "      <td>False</td>\n",
       "      <td>False</td>\n",
       "      <td>...</td>\n",
       "      <td>True</td>\n",
       "      <td>False</td>\n",
       "      <td>False</td>\n",
       "      <td>False</td>\n",
       "      <td>False</td>\n",
       "      <td>False</td>\n",
       "      <td>False</td>\n",
       "      <td>False</td>\n",
       "      <td>False</td>\n",
       "      <td>False</td>\n",
       "    </tr>\n",
       "    <tr>\n",
       "      <th>4</th>\n",
       "      <td>False</td>\n",
       "      <td>False</td>\n",
       "      <td>False</td>\n",
       "      <td>False</td>\n",
       "      <td>False</td>\n",
       "      <td>False</td>\n",
       "      <td>False</td>\n",
       "      <td>False</td>\n",
       "      <td>False</td>\n",
       "      <td>False</td>\n",
       "      <td>...</td>\n",
       "      <td>False</td>\n",
       "      <td>False</td>\n",
       "      <td>False</td>\n",
       "      <td>False</td>\n",
       "      <td>False</td>\n",
       "      <td>False</td>\n",
       "      <td>True</td>\n",
       "      <td>False</td>\n",
       "      <td>False</td>\n",
       "      <td>False</td>\n",
       "    </tr>\n",
       "  </tbody>\n",
       "</table>\n",
       "<p>5 rows × 119 columns</p>\n",
       "</div>"
      ],
      "text/plain": [
       "   almonds  antioxydant juice  asparagus  avocado  babies food  bacon  \\\n",
       "0     True               True      False     True        False  False   \n",
       "1    False              False      False    False        False  False   \n",
       "2    False              False      False    False        False  False   \n",
       "3    False              False      False     True        False  False   \n",
       "4    False              False      False    False        False  False   \n",
       "\n",
       "   barbecue sauce  black tea  blueberries  body spray  ...  turkey  \\\n",
       "0           False      False        False       False  ...   False   \n",
       "1           False      False        False       False  ...   False   \n",
       "2           False      False        False       False  ...   False   \n",
       "3           False      False        False       False  ...    True   \n",
       "4           False      False        False       False  ...   False   \n",
       "\n",
       "   vegetables mix  water spray  white wine  whole weat flour  \\\n",
       "0            True        False       False              True   \n",
       "1           False        False       False             False   \n",
       "2           False        False       False             False   \n",
       "3           False        False       False             False   \n",
       "4           False        False       False             False   \n",
       "\n",
       "   whole wheat pasta  whole wheat rice   yams  yogurt cake  zucchini  \n",
       "0              False             False   True        False     False  \n",
       "1              False             False  False        False     False  \n",
       "2              False             False  False        False     False  \n",
       "3              False             False  False        False     False  \n",
       "4              False              True  False        False     False  \n",
       "\n",
       "[5 rows x 119 columns]"
      ]
     },
     "execution_count": 10,
     "metadata": {},
     "output_type": "execute_result"
    }
   ],
   "source": [
    "df_onehot.head()"
   ]
  },
  {
   "cell_type": "markdown",
   "id": "a885ae34-8d66-4077-8afb-b453bd3e0a56",
   "metadata": {},
   "source": [
    "## 2. Association Rule Mining:"
   ]
  },
  {
   "cell_type": "code",
   "execution_count": 11,
   "id": "d750a9ec-4c0e-4638-bf61-b13cce277841",
   "metadata": {},
   "outputs": [],
   "source": [
    "# Setting an appropriate support threshold:\n",
    "# A support of 0.01 means an itemset must appear in at least 1% of all transactions.\n",
    "# For a large retail dataset, this is a reasonable starting point to filter out\n",
    "# very rare purchases while keeping potentially significant relationships.\n",
    "min_support_threshold = 0.01\n",
    "frequent_itemsets = apriori(df_onehot, min_support=min_support_threshold, use_colnames=True)\n",
    "frequent_itemsets['length'] = frequent_itemsets['itemsets'].apply(lambda x: len(x))"
   ]
  },
  {
   "cell_type": "code",
   "execution_count": 12,
   "id": "60e2745c-1e4d-415b-a658-64e1b373fe56",
   "metadata": {},
   "outputs": [
    {
     "name": "stdout",
     "output_type": "stream",
     "text": [
      "--------------------------------------------------\n",
      "FREQUENT ITEMSETS (min_support=0.01)\n",
      "--------------------------------------------------\n",
      "     support             itemsets  length\n",
      "46  0.238368      (mineral water)       1\n",
      "19  0.179709               (eggs)       1\n",
      "63  0.174110          (spaghetti)       1\n",
      "24  0.170911       (french fries)       1\n",
      "13  0.163845          (chocolate)       1\n",
      "32  0.132116          (green tea)       1\n",
      "45  0.129583               (milk)       1\n",
      "33  0.098254        (ground beef)       1\n",
      "30  0.095321  (frozen vegetables)       1\n",
      "53  0.095054           (pancakes)       1\n",
      "\n",
      "\n"
     ]
    }
   ],
   "source": [
    "print(\"-\" * 50)\n",
    "print(f\"FREQUENT ITEMSETS (min_support={min_support_threshold:.2f})\")\n",
    "print(\"-\" * 50)\n",
    "print(frequent_itemsets.sort_values(by='support', ascending=False).head(10))\n",
    "print(\"\\n\")\n"
   ]
  },
  {
   "cell_type": "markdown",
   "id": "d439f493-b0c9-4840-9b5f-6ad38e3cf83a",
   "metadata": {},
   "source": [
    "## 3. Analysis and Interpretation"
   ]
  },
  {
   "cell_type": "code",
   "execution_count": 13,
   "id": "d0089c58-a310-42de-8021-a2835ec66cc9",
   "metadata": {},
   "outputs": [],
   "source": [
    "# Rule Generation Thresholds Justification:\n",
    "# 1. Metric: We prioritize 'lift' because it indicates true correlation (Lift > 1).\n",
    "# 2. Min Lift: Setting min_threshold=1.2 ensures we only find rules where the \n",
    "#    items are purchased together at least 20% more often than expected by chance.\n",
    "# 3. Min Confidence: Setting min_confidence=0.4 means if a customer buys the \n",
    "#    antecedent, there is a 40% chance they will also buy the consequent."
   ]
  },
  {
   "cell_type": "code",
   "execution_count": 14,
   "id": "36ffe100-c585-439d-af1f-91aac00b61a0",
   "metadata": {},
   "outputs": [],
   "source": [
    "# Generate rules\n",
    "rules = association_rules(frequent_itemsets, metric=\"lift\", min_threshold=1.2)\n",
    "rules = rules[rules['confidence']>=0.4].sort_values(by=['lift','confidence'], ascending=False)"
   ]
  },
  {
   "cell_type": "code",
   "execution_count": 15,
   "id": "0abf48d5-135d-4e77-a741-d1ebd5d5e0f7",
   "metadata": {},
   "outputs": [
    {
     "name": "stdout",
     "output_type": "stream",
     "text": [
      "--------------------------------------------------\n",
      "TOP ASSOCIATION RULES (Lift >= 1.2, Confidence >= 0.4)\n",
      "--------------------------------------------------\n",
      "| antecedents                                 | consequents                  |   support |   confidence |    lift |\n",
      "|:--------------------------------------------|:-----------------------------|----------:|-------------:|--------:|\n",
      "| frozenset({'mineral water', 'ground beef'}) | frozenset({'spaghetti'})     | 0.0170644 |     0.416938 | 2.39468 |\n",
      "| frozenset({'eggs', 'ground beef'})          | frozenset({'mineral water'}) | 0.010132  |     0.506667 | 2.12556 |\n",
      "| frozenset({'milk', 'ground beef'})          | frozenset({'mineral water'}) | 0.0110652 |     0.50303  | 2.11031 |\n",
      "| frozenset({'chocolate', 'ground beef'})     | frozenset({'mineral water'}) | 0.0109319 |     0.473988 | 1.98847 |\n",
      "| frozenset({'frozen vegetables', 'milk'})    | frozenset({'mineral water'}) | 0.0110652 |     0.468927 | 1.96724 |\n",
      "| frozenset({'soup'})                         | frozenset({'mineral water'}) | 0.0230636 |     0.456464 | 1.91495 |\n",
      "| frozenset({'pancakes', 'spaghetti'})        | frozenset({'mineral water'}) | 0.0114651 |     0.455026 | 1.90892 |\n",
      "| frozenset({'olive oil', 'spaghetti'})       | frozenset({'mineral water'}) | 0.0102653 |     0.447674 | 1.87808 |\n",
      "| frozenset({'milk', 'spaghetti'})            | frozenset({'mineral water'}) | 0.0157312 |     0.443609 | 1.86102 |\n",
      "| frozenset({'chocolate', 'milk'})            | frozenset({'mineral water'}) | 0.0139981 |     0.435685 | 1.82778 |\n",
      "\n",
      "\n"
     ]
    }
   ],
   "source": [
    "print(\"-\" * 50)\n",
    "print(f\"TOP ASSOCIATION RULES (Lift >= 1.2, Confidence >= 0.4)\")\n",
    "print(\"-\" * 50)\n",
    "print(rules[['antecedents', 'consequents', 'support', 'confidence', 'lift']].head(10).to_markdown(index=False))\n",
    "print(\"\\n\")\n"
   ]
  },
  {
   "cell_type": "markdown",
   "id": "931b5391-6307-4b84-b1d4-cb8e1a7d94a2",
   "metadata": {},
   "source": [
    "## 4. Analysis and Interpretation"
   ]
  },
  {
   "cell_type": "code",
   "execution_count": 16,
   "id": "592aed77-c069-4136-bff7-266dcd292e97",
   "metadata": {},
   "outputs": [
    {
     "name": "stdout",
     "output_type": "stream",
     "text": [
      "--------------------------------------------------\n",
      "ANALYSIS AND INTERPRETATION OF CUSTOMER BEHAVIOR\n",
      "--------------------------------------------------\n",
      "1. Strongest Correlation (Highest Lift):\n",
      "   Rule: If a customer buys 'mineral water, ground beef', they also buy 'spaghetti'.\n",
      "   Lift: 2.395\n",
      "   Confidence: 0.417\n",
      "\n",
      "2. Customer Pairing Insight:\n",
      "   Rule: { mineral water, ground beef } -> { spaghetti }\n",
      "\n",
      "Actionable Recommendations:\n",
      " - Targeted promotions for consequent items when antecedent is purchased.\n",
      " - Place associated items together in store or online.\n"
     ]
    }
   ],
   "source": [
    "def interpret_rules(rules_df):\n",
    "    print(\"-\"*50)\n",
    "    print(\"ANALYSIS AND INTERPRETATION OF CUSTOMER BEHAVIOR\")\n",
    "    print(\"-\"*50)\n",
    "\n",
    "    if rules_df.empty:\n",
    "        print(\"No strong rules found based on thresholds (Lift >= 1.2, Confidence >= 0.4).\")\n",
    "        return\n",
    "\n",
    "    top_rule = rules_df.iloc[0]\n",
    "    antecedent_str = ', '.join(list(top_rule['antecedents']))\n",
    "    consequent_str = ', '.join(list(top_rule['consequents']))\n",
    "\n",
    "    print(f\"1. Strongest Correlation (Highest Lift):\")\n",
    "    print(f\"   Rule: If a customer buys '{antecedent_str}', they also buy '{consequent_str}'.\")\n",
    "    print(f\"   Lift: {top_rule['lift']:.3f}\")\n",
    "    print(f\"   Confidence: {top_rule['confidence']:.3f}\")\n",
    "\n",
    "    # Optional insight\n",
    "    common_pairings = rules_df.iloc[:5]\n",
    "    common_insight = common_pairings[\n",
    "        common_pairings['antecedents'].apply(lambda x: 'mineral water' in x or 'spaghetti' in x)\n",
    "    ].head(1)\n",
    "\n",
    "    if not common_insight.empty:\n",
    "        rule = common_insight.iloc[0]\n",
    "        print(\"\\n2. Customer Pairing Insight:\")\n",
    "        print(f\"   Rule: {{ {', '.join(list(rule['antecedents']))} }} -> {{ {', '.join(list(rule['consequents']))} }}\")\n",
    "\n",
    "    print(\"\\nActionable Recommendations:\")\n",
    "    print(\" - Targeted promotions for consequent items when antecedent is purchased.\")\n",
    "    print(\" - Place associated items together in store or online.\")\n",
    "\n",
    "# Call the function\n",
    "interpret_rules(rules)\n"
   ]
  },
  {
   "cell_type": "markdown",
   "id": "107578ca-916f-4eed-81db-1da57430eca8",
   "metadata": {},
   "source": [
    "## 5. Visualization (Top Rules by lift)"
   ]
  },
  {
   "cell_type": "code",
   "execution_count": 17,
   "id": "53122eb7-0f6e-4cd6-a716-0d23968d6190",
   "metadata": {},
   "outputs": [],
   "source": [
    "# Re-sort rules for visualization purposes\n",
    "rules_viz = rules.sort_values(by='lift', ascending=False).head(20).copy()"
   ]
  },
  {
   "cell_type": "code",
   "execution_count": 18,
   "id": "56e44379-a106-49d7-b78e-ba955f7a65a3",
   "metadata": {},
   "outputs": [
    {
     "data": {
      "image/png": "[encoded data removed]",
      "text/plain": [
       "<Figure size 1000x600 with 2 Axes>"
      ]
     },
     "metadata": {},
     "output_type": "display_data"
    }
   ],
   "source": [
    "plt.figure(figsize=(10, 6))\n",
    "plt.scatter(rules_viz['support'], rules_viz['confidence'], \n",
    "            c=rules_viz['lift'], cmap='viridis', \n",
    "            s=rules_viz['lift'] * 100, alpha=0.6)\n",
    "plt.colorbar(label='Lift (Color Intensity and Size)')\n",
    "plt.xlabel('Support')\n",
    "plt.ylabel('Confidence')\n",
    "plt.title('Association Rules: Support vs. Confidence (Colored by Lift)')\n",
    "plt.grid(True, alpha=0.3)\n",
    "plt.show()\n"
   ]
  },
  {
   "cell_type": "markdown",
   "id": "5772d1cd-0d80-46ad-b814-38f34e0e1d7b",
   "metadata": {},
   "source": [
    "Visualization: A scatter plot showing the Support and Confidence of the top rules, with the 'Lift' value represented by color and size. Rules in brighter colors and larger sizes are the most interesting (highest Lift)."
   ]
  },
  {
   "cell_type": "markdown",
   "id": "31ad8635-eb9a-4a89-8b6f-ddbf76fb23a9",
   "metadata": {},
   "source": [
    "## 6. Interview Question :"
   ]
  },
  {
   "cell_type": "markdown",
   "id": "4e882519-f3df-4f3a-9649-4029bda406af",
   "metadata": {},
   "source": [
    "**1. What is lift and why is it important in Association rules?**\n",
    "   - **What it is:** Lift is a measure of how much more often the antecedent (A) and consequent (C) occur together than we would expect if they were statistically independent. It is calculated as:\n"
   ]
  },
  {
   "cell_type": "markdown",
   "id": "160b6cff-1d47-475d-89d4-ea605075e318",
   "metadata": {},
   "source": [
    " $$Lift(A \\to C) = \\frac{Confidence(A \\to C)}{Support(C)} = \\frac{P(A \\cap C)}{P(A) \\times P(C)}$$"
   ]
  },
  {
   "cell_type": "markdown",
   "id": "ed0656fd-74da-41fd-a568-a045ab0f88d6",
   "metadata": {},
   "source": [
    " - **Why it is important:**\n",
    "     - **Lift = 1:** Implies A and C are independent. The rule is not interesting.\n",
    "     - **Lift > 1:** Implies A and C are positively correlated. The rule is useful for suggesting cross-selling. (e.g., customers who buy A are more likely to buy C).\n",
    "     - **Lift < 1:** Implies A and C are negatively correlated. The presence of A decreases the likelihood of C.\n",
    "   - Lift is crucial because it helps distinguish truly correlated items from items that are just frequently purchased due to high individual support (e.g., milk and bread are always bought, but a rule like {Bread} -> {Milk} may have high Confidence/Support but low Lift).\n"
   ]
  },
  {
   "cell_type": "markdown",
   "id": "e02c8f03-2a12-4ae1-8081-e243c4804176",
   "metadata": {},
   "source": [
    "**Q2. What is Support and Confidence? How do you calculate them?**"
   ]
  },
  {
   "cell_type": "markdown",
   "id": "4eb702c7-6fcd-4988-a2a8-141fb922bab2",
   "metadata": {},
   "source": [
    " - **Support ($P(A \\cap C)$):**"
   ]
  },
  {
   "cell_type": "markdown",
   "id": "491862c4-26e8-475a-b252-f2e7956e4788",
   "metadata": {},
   "source": [
    " - **Definition:** The fraction of all transactions that contain both the antecedent (A) and the consequent (C). It measures the **frequency** of the itemset $\\{A, C\\}$."
   ]
  },
  {
   "cell_type": "markdown",
   "id": "cb29ae07-c645-41b0-bf51-bc0908975785",
   "metadata": {},
   "source": [
    " - **Calculation:** $\\text{Support}(A \\to C) = \\frac{\\text{Number of transactions containing A and C}}{\\text{Total number of transactions}}$"
   ]
  },
  {
   "cell_type": "markdown",
   "id": "2369a1f6-24f1-47b5-a21c-1a6ac70067c4",
   "metadata": {},
   "source": [
    "- **Confidence ($P(C | A)$):**"
   ]
  },
  {
   "cell_type": "markdown",
   "id": "9eebcfd5-0448-46d3-943e-9e66fc367d66",
   "metadata": {},
   "source": [
    "  - **Definition:** The probability that a transaction contains the consequent (C), *given* that the transaction already contains the antecedent (A). It measures the **reliability** of the rule."
   ]
  },
  {
   "cell_type": "markdown",
   "id": "38b032a9-2752-4ce6-b26b-46e019b1f45d",
   "metadata": {},
   "source": [
    "  - **Calculation:** $\\text{Confidence}(A \\to C) = \\frac{\\text{Support}(A \\to C)}{\\text{Support}(A)} = \\frac{\\text{P}(A \\cap C)}{\\text{P}(A)}$"
   ]
  },
  {
   "cell_type": "markdown",
   "id": "9df28870-b287-47bc-a670-fd36c9c3669a",
   "metadata": {},
   "source": [
    "**Q3. What are some limitations or challenges of Association Rule Mining?**"
   ]
  },
  {
   "cell_type": "markdown",
   "id": "7936fa9a-5a88-4ddf-a565-c31bd7747825",
   "metadata": {},
   "source": [
    " - **Scalability and Computational Cost (The \"Trivial\" Rule Problem):** In large datasets with millions of products, the number of potential itemsets ($2^N$ where $N$ is the number of items) is enormous. The Apriori algorithm and its derivatives can be computationally intensive.\n",
    "   - **Generating Too Many Rules:** With low support thresholds, the algorithm can generate thousands of rules, many of which are obvious (e.g., {Coke} -> {Soda}) or completely uninteresting. This is known as the \"rule explosion\" problem.\n",
    "   - **Sparsity:** Retail datasets are often very sparse (most customers buy only a tiny fraction of the available items), making it difficult to find itemsets with high enough support.\n",
    "   - **Lack of Time Dimension:** Standard association rule mining does not account for the sequence or time of purchases, only the co-occurrence within a single basket.\n",
    "   - **Subjectivity of Thresholds:** Choosing meaningful thresholds for support, confidence, and lift requires domain knowledge and significant experimentation; an inappropriate threshold can lead to missing key insights or being overwhelmed by noise."
   ]
  }
 ],
 "metadata": {
  "kernelspec": {
   "display_name": "Python 3 (ipykernel)",
   "language": "python",
   "name": "python3"
  },
  "language_info": {
   "codemirror_mode": {
    "name": "ipython",
    "version": 3
   },
   "file_extension": ".py",
   "mimetype": "text/x-python",
   "name": "python",
   "nbconvert_exporter": "python",
   "pygments_lexer": "ipython3",
   "version": "3.13.5"
  }
 },
 "nbformat": 4,
 "nbformat_minor": 5
}
