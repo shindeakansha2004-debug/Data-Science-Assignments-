{
 "cells": [
  {
   "cell_type": "markdown",
   "id": "38265d98-5c8d-424d-9aea-74a09d6e934f",
   "metadata": {},
   "source": [
    "# CHI-SQUARE TEST"
   ]
  },
  {
   "cell_type": "markdown",
   "id": "288f2ad4-6829-4139-b754-878b37e53535",
   "metadata": {},
   "source": [
    "### Step 1 : Import Libraries"
   ]
  },
  {
   "cell_type": "code",
   "execution_count": 24,
   "id": "dc9a9009-cd86-4f2d-9bd8-bcb089a622be",
   "metadata": {},
   "outputs": [],
   "source": [
    "import numpy as np\n",
    "from scipy.stats import chi2"
   ]
  },
  {
   "cell_type": "markdown",
   "id": "6871c62f-3eb6-459b-a0f6-488e78537105",
   "metadata": {},
   "source": [
    "### Step 2: Row sums, column sums, and total"
   ]
  },
  {
   "cell_type": "code",
   "execution_count": 27,
   "id": "07fea1e7-7c5a-46e6-8f6b-2e8676b833da",
   "metadata": {},
   "outputs": [
    {
     "data": {
      "text/plain": [
       "(array([120, 180, 150,  80,  70]), array([240, 360]), np.int64(600))"
      ]
     },
     "execution_count": 27,
     "metadata": {},
     "output_type": "execute_result"
    }
   ],
   "source": [
    "row_totals = observed.sum(axis=1)\n",
    "col_totals = observed.sum(axis=0)\n",
    "grand_total = observed.sum()\n",
    "row_totals,col_totals,grand_total"
   ]
  },
  {
   "cell_type": "markdown",
   "id": "abaf6d9c-f33b-4158-a32a-eae0ce4b5778",
   "metadata": {},
   "source": [
    "### Step 3: Observed frequency table"
   ]
  },
  {
   "cell_type": "code",
   "execution_count": 35,
   "id": "b988a56d-6242-4565-93b1-a8b55a2e3502",
   "metadata": {},
   "outputs": [
    {
     "data": {
      "text/plain": [
       "array([[ 50,  70],\n",
       "       [ 80, 100],\n",
       "       [ 60,  90],\n",
       "       [ 30,  50],\n",
       "       [ 20,  50]])"
      ]
     },
     "execution_count": 35,
     "metadata": {},
     "output_type": "execute_result"
    }
   ],
   "source": [
    "observed = np.array([[50, 70],[80, 100], [60, 90],[30, 50],[20, 50]])\n",
    "observed"
   ]
  },
  {
   "cell_type": "markdown",
   "id": "3a9c7bb7-fff8-4b45-b65c-597075331a1c",
   "metadata": {},
   "source": [
    "### Step 4: Expected frequency table"
   ]
  },
  {
   "cell_type": "code",
   "execution_count": 28,
   "id": "0e94667d-80ec-4444-bccf-2a6f4a4a42f6",
   "metadata": {},
   "outputs": [
    {
     "data": {
      "text/plain": [
       "array([[ 48.,  72.],\n",
       "       [ 72., 108.],\n",
       "       [ 60.,  90.],\n",
       "       [ 32.,  48.],\n",
       "       [ 28.,  42.]])"
      ]
     },
     "execution_count": 28,
     "metadata": {},
     "output_type": "execute_result"
    }
   ],
   "source": [
    "expected = np.outer(row_totals, col_totals) / grand_total\n",
    "expected"
   ]
  },
  {
   "cell_type": "markdown",
   "id": "21cd3e29-c2c9-482c-a6d4-c746d84ed53e",
   "metadata": {},
   "source": [
    "### Step 5: Chi-Square Statistic"
   ]
  },
  {
   "cell_type": "code",
   "execution_count": 29,
   "id": "1fd1d88b-0551-4a06-b702-c3d0462b6dcd",
   "metadata": {
    "jupyter": {
     "source_hidden": true
    }
   },
   "outputs": [
    {
     "data": {
      "text/plain": [
       "np.float64(5.638227513227513)"
      ]
     },
     "execution_count": 29,
     "metadata": {},
     "output_type": "execute_result"
    }
   ],
   "source": [
    "chi_square_stat = ((observed - expected) ** 2 / expected).sum()\n",
    "chi_square_stat"
   ]
  },
  {
   "cell_type": "markdown",
   "id": "b57bf09e-efd4-4cf3-a4a9-86cd1105f486",
   "metadata": {},
   "source": [
    "### Step 6: Degrees of Freedom"
   ]
  },
  {
   "cell_type": "code",
   "execution_count": 30,
   "id": "85b2c1ee-442f-44a8-9dd5-07bceb3d1441",
   "metadata": {},
   "outputs": [
    {
     "data": {
      "text/plain": [
       "4"
      ]
     },
     "execution_count": 30,
     "metadata": {},
     "output_type": "execute_result"
    }
   ],
   "source": [
    "rows, cols = observed.shape\n",
    "df = (rows - 1) * (cols - 1)\n",
    "df"
   ]
  },
  {
   "cell_type": "markdown",
   "id": "67bd6a39-699c-40ee-a75c-4b6d7a5215fd",
   "metadata": {},
   "source": [
    "### Step 7: Critical Value for alpha = 0.05"
   ]
  },
  {
   "cell_type": "code",
   "execution_count": 31,
   "id": "a3949eaa-6c73-441c-9795-9364d95b8cf1",
   "metadata": {},
   "outputs": [
    {
     "data": {
      "text/plain": [
       "np.float64(9.487729036781154)"
      ]
     },
     "execution_count": 31,
     "metadata": {},
     "output_type": "execute_result"
    }
   ],
   "source": [
    "alpha = 0.05\n",
    "critical_value = chi2.ppf(1 - alpha, df)\n",
    "critical_value"
   ]
  },
  {
   "cell_type": "markdown",
   "id": "72445214-4bf2-4326-8459-66c8eab96764",
   "metadata": {},
   "source": [
    "### Step 8: Decision"
   ]
  },
  {
   "cell_type": "code",
   "execution_count": 34,
   "id": "e8c46b9b-864c-4ad2-b2b1-4d8eba275db5",
   "metadata": {},
   "outputs": [
    {
     "name": "stdout",
     "output_type": "stream",
     "text": [
      "Conclusion: Fail to reject the null hypothesis (no significant association).\n"
     ]
    }
   ],
   "source": [
    "if chi_square_stat > critical_value:\n",
    "    decision = \"Reject the null hypothesis (significant association).\"\n",
    "else:\n",
    "    decision = \"Fail to reject the null hypothesis (no significant association).\"\n",
    "print(\"Conclusion:\", decision)"
   ]
  },
  {
   "cell_type": "code",
   "execution_count": null,
   "id": "42aca73d-a3f9-4e48-b7e2-a0ae0b4f4b85",
   "metadata": {},
   "outputs": [],
   "source": []
  },
  {
   "cell_type": "code",
   "execution_count": null,
   "id": "ed8c4403-0796-42b7-934a-9ccda58a8a64",
   "metadata": {},
   "outputs": [],
   "source": []
  }
 ],
 "metadata": {
  "kernelspec": {
   "display_name": "Python 3 (ipykernel)",
   "language": "python",
   "name": "python3"
  },
  "language_info": {
   "codemirror_mode": {
    "name": "ipython",
    "version": 3
   },
   "file_extension": ".py",
   "mimetype": "text/x-python",
   "name": "python",
   "nbconvert_exporter": "python",
   "pygments_lexer": "ipython3",
   "version": "3.13.5"
  }
 },
 "nbformat": 4,
 "nbformat_minor": 5
}
